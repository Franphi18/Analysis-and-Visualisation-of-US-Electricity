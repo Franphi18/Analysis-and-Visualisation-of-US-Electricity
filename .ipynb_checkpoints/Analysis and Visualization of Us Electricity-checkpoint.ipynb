{
 "cells": [
  {
   "cell_type": "code",
   "execution_count": 2,
   "id": "5d659346",
   "metadata": {},
   "outputs": [],
   "source": [
    "import numpy as np\n",
    "import csv"
   ]
  },
  {
   "cell_type": "markdown",
   "id": "49d9af45",
   "metadata": {},
   "source": [
    "## Importing the Dataset"
   ]
  },
  {
   "cell_type": "code",
   "execution_count": 3,
   "id": "6bf2f7d0",
   "metadata": {},
   "outputs": [],
   "source": [
    "data = []\n",
    "\n",
    "#read the file\n",
    "with open(\"./raw_data.csv\",\"r\") as csvfile:\n",
    "    file_reader = csv.reader(csvfile)\n",
    "    \n",
    "    for row in file_reader:\n",
    "        data.append(row)\n",
    "        \n",
    "# change data into numpy array\n",
    "data = np.array(data)"
   ]
  },
  {
   "cell_type": "code",
   "execution_count": 4,
   "id": "478fc755",
   "metadata": {},
   "outputs": [
    {
     "data": {
      "text/plain": [
       "array([['MSN', 'YYYYMM', 'Value', 'Column_Order', 'Description', 'Unit'],\n",
       "       ['CLETPUS', '194913', '135451.32', '1',\n",
       "        'Electricity Net Generation From Coal, All Sectors',\n",
       "        'Million Kilowatthours'],\n",
       "       ['CLETPUS', '195013', '154519.994', '1',\n",
       "        'Electricity Net Generation From Coal, All Sectors',\n",
       "        'Million Kilowatthours'],\n",
       "       ...,\n",
       "       ['ELETPUS', '202209', '350919.559', '13',\n",
       "        'Electricity Net Generation Total (including from sources not shown), All Sectors',\n",
       "        'Million Kilowatthours'],\n",
       "       ['ELETPUS', '202210', '314048.288', '13',\n",
       "        'Electricity Net Generation Total (including from sources not shown), All Sectors',\n",
       "        'Million Kilowatthours'],\n",
       "       ['ELETPUS', '202211', '323198.745', '13',\n",
       "        'Electricity Net Generation Total (including from sources not shown), All Sectors',\n",
       "        'Million Kilowatthours']], dtype='<U80')"
      ]
     },
     "execution_count": 4,
     "metadata": {},
     "output_type": "execute_result"
    }
   ],
   "source": [
    "data"
   ]
  },
  {
   "cell_type": "code",
   "execution_count": 5,
   "id": "574ecf91",
   "metadata": {},
   "outputs": [
    {
     "data": {
      "text/plain": [
       "(8737, 6)"
      ]
     },
     "execution_count": 5,
     "metadata": {},
     "output_type": "execute_result"
    }
   ],
   "source": [
    "data.shape"
   ]
  },
  {
   "cell_type": "markdown",
   "id": "7bfd1816",
   "metadata": {},
   "source": [
    "## saving File"
   ]
  },
  {
   "cell_type": "code",
   "execution_count": 15,
   "id": "34bad532",
   "metadata": {},
   "outputs": [],
   "source": [
    "np.savetxt(\"energy.csv\",data, fmt=\"%s\",delimiter=\",\")"
   ]
  },
  {
   "cell_type": "markdown",
   "id": "100b1120",
   "metadata": {},
   "source": [
    "## Describe Data"
   ]
  },
  {
   "cell_type": "code",
   "execution_count": 6,
   "id": "0380d9d8",
   "metadata": {},
   "outputs": [
    {
     "name": "stdout",
     "output_type": "stream",
     "text": [
      "Header:\n",
      " ['MSN' 'YYYYMM' 'Value' 'Column_Order' 'Description' 'Unit'] \n",
      "\n",
      " values\n",
      " [['CLETPUS' '194913' '135451.32' '1'\n",
      "  'Electricity Net Generation From Coal, All Sectors'\n",
      "  'Million Kilowatthours']\n",
      " ['CLETPUS' '195013' '154519.994' '1'\n",
      "  'Electricity Net Generation From Coal, All Sectors'\n",
      "  'Million Kilowatthours']\n",
      " ['CLETPUS' '195113' '185203.657' '1'\n",
      "  'Electricity Net Generation From Coal, All Sectors'\n",
      "  'Million Kilowatthours']\n",
      " ...\n",
      " ['ELETPUS' '202209' '350919.559' '13'\n",
      "  'Electricity Net Generation Total (including from sources not shown), All Sectors'\n",
      "  'Million Kilowatthours']\n",
      " ['ELETPUS' '202210' '314048.288' '13'\n",
      "  'Electricity Net Generation Total (including from sources not shown), All Sectors'\n",
      "  'Million Kilowatthours']\n",
      " ['ELETPUS' '202211' '323198.745' '13'\n",
      "  'Electricity Net Generation Total (including from sources not shown), All Sectors'\n",
      "  'Million Kilowatthours']]\n"
     ]
    }
   ],
   "source": [
    "#Use indexing to call out rows\n",
    "\n",
    "header = data[0,:]\n",
    "values = data[1:,:]\n",
    "\n",
    "print(\"Header:\\n\",header,\"\\n\\n values\\n\",values)"
   ]
  },
  {
   "cell_type": "markdown",
   "id": "83b40fc2",
   "metadata": {},
   "source": [
    "## Sources of Energy in US"
   ]
  },
  {
   "cell_type": "code",
   "execution_count": 7,
   "id": "79b26050",
   "metadata": {},
   "outputs": [
    {
     "data": {
      "text/plain": [
       "8736"
      ]
     },
     "execution_count": 7,
     "metadata": {},
     "output_type": "execute_result"
    }
   ],
   "source": [
    "len(values[:,4])"
   ]
  },
  {
   "cell_type": "code",
   "execution_count": 8,
   "id": "40b06c15",
   "metadata": {},
   "outputs": [
    {
     "data": {
      "text/plain": [
       "13"
      ]
     },
     "execution_count": 8,
     "metadata": {},
     "output_type": "execute_result"
    }
   ],
   "source": [
    "len(np.unique(values[:,4]))"
   ]
  },
  {
   "cell_type": "code",
   "execution_count": 9,
   "id": "16a4b0e4",
   "metadata": {},
   "outputs": [
    {
     "name": "stdout",
     "output_type": "stream",
     "text": [
      "US Generate Electricity from 13 sources\n",
      "\n",
      "\n",
      "['Electricity Net Generation From Coal, All Sectors'\n",
      " 'Electricity Net Generation From Conventional Hydroelectric Power, All Sectors'\n",
      " 'Electricity Net Generation From Geothermal, All Sectors'\n",
      " 'Electricity Net Generation From Hydroelectric Pumped Storage, All Sectors'\n",
      " 'Electricity Net Generation From Natural Gas, All Sectors'\n",
      " 'Electricity Net Generation From Nuclear Electric Power, All Sectors'\n",
      " 'Electricity Net Generation From Other Gases, All Sectors'\n",
      " 'Electricity Net Generation From Petroleum, All Sectors'\n",
      " 'Electricity Net Generation From Solar, All Sectors'\n",
      " 'Electricity Net Generation From Waste, All Sectors'\n",
      " 'Electricity Net Generation From Wind, All Sectors'\n",
      " 'Electricity Net Generation From Wood, All Sectors'\n",
      " 'Electricity Net Generation Total (including from sources not shown), All Sectors']\n"
     ]
    }
   ],
   "source": [
    "num_of_source = len(np.unique(values[:,4]))\n",
    "print(\"US Generate Electricity from {} sources\\n\\n\".format(num_of_source))\n",
    "print(np.unique(values[:,4]))"
   ]
  },
  {
   "cell_type": "markdown",
   "id": "a4ddeaa0",
   "metadata": {},
   "source": [
    "## Extract the wind energy data"
   ]
  },
  {
   "cell_type": "code",
   "execution_count": 10,
   "id": "3827fc45",
   "metadata": {},
   "outputs": [],
   "source": [
    "wind_cond = values[:,4] == \"Electricity Net Generation From Wind, All Sectors\""
   ]
  },
  {
   "cell_type": "code",
   "execution_count": 11,
   "id": "727a4708",
   "metadata": {},
   "outputs": [],
   "source": [
    "wind_data = values[wind_cond]"
   ]
  },
  {
   "cell_type": "code",
   "execution_count": 12,
   "id": "56d1c96f",
   "metadata": {},
   "outputs": [
    {
     "data": {
      "text/plain": [
       "(672, 6)"
      ]
     },
     "execution_count": 12,
     "metadata": {},
     "output_type": "execute_result"
    }
   ],
   "source": [
    "wind_data.shape"
   ]
  },
  {
   "cell_type": "markdown",
   "id": "938bdf41",
   "metadata": {},
   "source": [
    "## save into file"
   ]
  },
  {
   "cell_type": "code",
   "execution_count": 51,
   "id": "b7608cec",
   "metadata": {},
   "outputs": [],
   "source": [
    "np.savetxt(\"wind.csv\",wind_data, fmt=\"%s\",delimiter=\",\")"
   ]
  },
  {
   "cell_type": "markdown",
   "id": "9589cf5e",
   "metadata": {},
   "source": [
    "## Extract the wood energy data"
   ]
  },
  {
   "cell_type": "code",
   "execution_count": 14,
   "id": "50bbfddb",
   "metadata": {},
   "outputs": [],
   "source": [
    "wood_cond = values[:,4] == 'Electricity Net Generation From Wood, All Sectors'"
   ]
  },
  {
   "cell_type": "code",
   "execution_count": 15,
   "id": "c382333b",
   "metadata": {},
   "outputs": [],
   "source": [
    "wood_data = values[wood_cond]"
   ]
  },
  {
   "cell_type": "code",
   "execution_count": 55,
   "id": "dce23e33",
   "metadata": {},
   "outputs": [
    {
     "data": {
      "text/plain": [
       "array([['WDETPUS', '194913', '386.036', '8',\n",
       "        'Electricity Net Generation From Wood, All Sectors',\n",
       "        'Million Kilowatthours'],\n",
       "       ['WDETPUS', '195013', '389.585', '8',\n",
       "        'Electricity Net Generation From Wood, All Sectors',\n",
       "        'Million Kilowatthours'],\n",
       "       ['WDETPUS', '195113', '390.784', '8',\n",
       "        'Electricity Net Generation From Wood, All Sectors',\n",
       "        'Million Kilowatthours'],\n",
       "       ...,\n",
       "       ['WDETPUS', '202209', '2891.532', '8',\n",
       "        'Electricity Net Generation From Wood, All Sectors',\n",
       "        'Million Kilowatthours'],\n",
       "       ['WDETPUS', '202210', '2649.35', '8',\n",
       "        'Electricity Net Generation From Wood, All Sectors',\n",
       "        'Million Kilowatthours'],\n",
       "       ['WDETPUS', '202211', '3004.351', '8',\n",
       "        'Electricity Net Generation From Wood, All Sectors',\n",
       "        'Million Kilowatthours']], dtype='<U80')"
      ]
     },
     "execution_count": 55,
     "metadata": {},
     "output_type": "execute_result"
    }
   ],
   "source": [
    "wood_data"
   ]
  },
  {
   "cell_type": "code",
   "execution_count": 16,
   "id": "2ff1c00e",
   "metadata": {},
   "outputs": [
    {
     "data": {
      "text/plain": [
       "(672, 6)"
      ]
     },
     "execution_count": 16,
     "metadata": {},
     "output_type": "execute_result"
    }
   ],
   "source": [
    "wood_data.shape"
   ]
  },
  {
   "cell_type": "code",
   "execution_count": 17,
   "id": "b0155eb1",
   "metadata": {},
   "outputs": [],
   "source": [
    "np.savetxt(\"wood.csv\",wood_data, fmt=\"%s\",delimiter=\",\")"
   ]
  },
  {
   "cell_type": "markdown",
   "id": "10a6d299",
   "metadata": {},
   "source": [
    "## Extract the coal energy data"
   ]
  },
  {
   "cell_type": "code",
   "execution_count": 18,
   "id": "459fc4af",
   "metadata": {},
   "outputs": [],
   "source": [
    "coal_cond = values[:,4] == \"Electricity Net Generation From Coal, All Sectors\""
   ]
  },
  {
   "cell_type": "code",
   "execution_count": 19,
   "id": "f17e8b06",
   "metadata": {},
   "outputs": [],
   "source": [
    "coal_data = values[wind_cond]"
   ]
  },
  {
   "cell_type": "code",
   "execution_count": 20,
   "id": "0ec96071",
   "metadata": {},
   "outputs": [
    {
     "data": {
      "text/plain": [
       "(672, 6)"
      ]
     },
     "execution_count": 20,
     "metadata": {},
     "output_type": "execute_result"
    }
   ],
   "source": [
    "coal_data.shape"
   ]
  },
  {
   "cell_type": "code",
   "execution_count": 21,
   "id": "9069ba16",
   "metadata": {},
   "outputs": [],
   "source": [
    "np.savetxt(\"coal.csv\",coal_data, fmt=\"%s\",delimiter=\",\")"
   ]
  },
  {
   "cell_type": "markdown",
   "id": "128b5c91",
   "metadata": {},
   "source": [
    "## Extract the conventional_hydro energy data"
   ]
  },
  {
   "cell_type": "code",
   "execution_count": 22,
   "id": "0e171c8d",
   "metadata": {},
   "outputs": [],
   "source": [
    "conventional_hydro_cond = values[:,4] == \"Electricity Net Generation From Conventional Hydroelectric Power, All Sectors\""
   ]
  },
  {
   "cell_type": "code",
   "execution_count": 23,
   "id": "8ce20df7",
   "metadata": {},
   "outputs": [],
   "source": [
    "conventional_hydro_data = values[wind_cond]"
   ]
  },
  {
   "cell_type": "code",
   "execution_count": 24,
   "id": "21a0b8d3",
   "metadata": {},
   "outputs": [
    {
     "data": {
      "text/plain": [
       "(672, 6)"
      ]
     },
     "execution_count": 24,
     "metadata": {},
     "output_type": "execute_result"
    }
   ],
   "source": [
    "conventional_hydro_data.shape"
   ]
  },
  {
   "cell_type": "code",
   "execution_count": 25,
   "id": "19d47125",
   "metadata": {},
   "outputs": [],
   "source": [
    "np.savetxt(\"conventional_hydro.csv\",conventional_hydro_data, fmt=\"%s\",delimiter=\",\")"
   ]
  },
  {
   "cell_type": "markdown",
   "id": "cc19c7d5",
   "metadata": {},
   "source": [
    "## Extract the Geothermal energy data"
   ]
  },
  {
   "cell_type": "code",
   "execution_count": 26,
   "id": "325ed55b",
   "metadata": {},
   "outputs": [],
   "source": [
    "Geothermal_cond = values[:,4] == \"Electricity Net Generation From Geothermal, All Sectors\""
   ]
  },
  {
   "cell_type": "code",
   "execution_count": 28,
   "id": "d7f34fc7",
   "metadata": {},
   "outputs": [],
   "source": [
    "Geothermal_data = values[Geothermal_cond]"
   ]
  },
  {
   "cell_type": "code",
   "execution_count": 29,
   "id": "57c1b911",
   "metadata": {},
   "outputs": [
    {
     "data": {
      "text/plain": [
       "(672, 6)"
      ]
     },
     "execution_count": 29,
     "metadata": {},
     "output_type": "execute_result"
    }
   ],
   "source": [
    "Geothermal_data.shape"
   ]
  },
  {
   "cell_type": "code",
   "execution_count": 30,
   "id": "78930b8a",
   "metadata": {},
   "outputs": [],
   "source": [
    "np.savetxt(\"Geothermal.csv\",Geothermal_data, fmt=\"%s\",delimiter=\",\")"
   ]
  },
  {
   "cell_type": "markdown",
   "id": "fc8e43e3",
   "metadata": {},
   "source": [
    "## Extract the Hydroelectric pumped storage data"
   ]
  },
  {
   "cell_type": "code",
   "execution_count": 32,
   "id": "68ec8673",
   "metadata": {},
   "outputs": [],
   "source": [
    "Hydroelectric_pumped_cond = values[:,4] == \"Electricity Net Generation From Hydroelectric Pumped Storage, All Sectors\""
   ]
  },
  {
   "cell_type": "code",
   "execution_count": 33,
   "id": "0dbe93bf",
   "metadata": {},
   "outputs": [],
   "source": [
    "Hydroelectric_pumped_data = values[Geothermal_cond]"
   ]
  },
  {
   "cell_type": "code",
   "execution_count": 34,
   "id": "5d515345",
   "metadata": {},
   "outputs": [
    {
     "data": {
      "text/plain": [
       "(672, 6)"
      ]
     },
     "execution_count": 34,
     "metadata": {},
     "output_type": "execute_result"
    }
   ],
   "source": [
    "Hydroelectric_pumped_data.shape"
   ]
  },
  {
   "cell_type": "code",
   "execution_count": 35,
   "id": "18c28de9",
   "metadata": {},
   "outputs": [],
   "source": [
    "np.savetxt(\"Hydroelectric_pumped.csv\",Hydroelectric_pumped_data, fmt=\"%s\",delimiter=\",\")"
   ]
  },
  {
   "cell_type": "markdown",
   "id": "2c06bef1",
   "metadata": {},
   "source": [
    "## Extract the Natural Gas data"
   ]
  },
  {
   "cell_type": "code",
   "execution_count": 43,
   "id": "9492f4a0",
   "metadata": {},
   "outputs": [],
   "source": [
    "Natural_gas_cond = values[:,4] == \"Electricity Net Generation From Natural Gas, All Sectors\""
   ]
  },
  {
   "cell_type": "code",
   "execution_count": 44,
   "id": "2832c9dd",
   "metadata": {},
   "outputs": [],
   "source": [
    "Natural_gas_data = values[Natural_gas_cond]"
   ]
  },
  {
   "cell_type": "code",
   "execution_count": 45,
   "id": "85dc1004",
   "metadata": {},
   "outputs": [
    {
     "data": {
      "text/plain": [
       "(672, 6)"
      ]
     },
     "execution_count": 45,
     "metadata": {},
     "output_type": "execute_result"
    }
   ],
   "source": [
    "Natural_gas_data.shape"
   ]
  },
  {
   "cell_type": "code",
   "execution_count": 47,
   "id": "79600d81",
   "metadata": {},
   "outputs": [],
   "source": [
    "np.savetxt(\"Natural_gas.csv\",Natural_gas_data, fmt=\"%s\",delimiter=\",\")"
   ]
  },
  {
   "cell_type": "markdown",
   "id": "99ed61fa",
   "metadata": {},
   "source": [
    "## Extract the Nuclear electric Power Data"
   ]
  },
  {
   "cell_type": "code",
   "execution_count": 49,
   "id": "8c731060",
   "metadata": {},
   "outputs": [],
   "source": [
    "Nuclear_electric_cond = values[:,4] == \"Electricity Net Generation From Nuclear electric Power, All Sectors\""
   ]
  },
  {
   "cell_type": "code",
   "execution_count": 50,
   "id": "c8a1404c",
   "metadata": {},
   "outputs": [],
   "source": [
    "Nuclear_electric_data = values[Nuclear_electric_cond]"
   ]
  },
  {
   "cell_type": "code",
   "execution_count": 51,
   "id": "cb50e9f3",
   "metadata": {},
   "outputs": [
    {
     "data": {
      "text/plain": [
       "(0, 6)"
      ]
     },
     "execution_count": 51,
     "metadata": {},
     "output_type": "execute_result"
    }
   ],
   "source": [
    "Nuclear_electric_data.shape"
   ]
  },
  {
   "cell_type": "code",
   "execution_count": 52,
   "id": "b4674ba4",
   "metadata": {},
   "outputs": [],
   "source": [
    "np.savetxt(\"Nuclear_electric.csv\",Nuclear_electric_data, fmt=\"%s\",delimiter=\",\")"
   ]
  },
  {
   "cell_type": "markdown",
   "id": "34df640a",
   "metadata": {},
   "source": [
    "## Extract the Other Gases Data"
   ]
  },
  {
   "cell_type": "code",
   "execution_count": 55,
   "id": "96be3972",
   "metadata": {},
   "outputs": [],
   "source": [
    "other_gases_cond = values[:,4] == \"Electricity Net Generation From Other Gases, All Sectors\""
   ]
  },
  {
   "cell_type": "code",
   "execution_count": 56,
   "id": "7d6cfe18",
   "metadata": {},
   "outputs": [],
   "source": [
    "other_gases_data = values[other_gases_cond]"
   ]
  },
  {
   "cell_type": "code",
   "execution_count": 57,
   "id": "a3424c41",
   "metadata": {},
   "outputs": [
    {
     "data": {
      "text/plain": [
       "(672, 6)"
      ]
     },
     "execution_count": 57,
     "metadata": {},
     "output_type": "execute_result"
    }
   ],
   "source": [
    "other_gases_data.shape"
   ]
  },
  {
   "cell_type": "code",
   "execution_count": 58,
   "id": "57319e93",
   "metadata": {},
   "outputs": [],
   "source": [
    "np.savetxt(\"other_gases.csv\",other_gases_data, fmt=\"%s\",delimiter=\",\")"
   ]
  },
  {
   "cell_type": "markdown",
   "id": "1bd59a95",
   "metadata": {},
   "source": [
    "## Extract the Petroleum Data"
   ]
  },
  {
   "cell_type": "code",
   "execution_count": 63,
   "id": "fb2e2048",
   "metadata": {},
   "outputs": [],
   "source": [
    "petroleum_cond = values[:,4] == \"Electricity Net Generation From Petroleum, All Sectors\""
   ]
  },
  {
   "cell_type": "code",
   "execution_count": 64,
   "id": "cbedfb98",
   "metadata": {},
   "outputs": [],
   "source": [
    "petroleum_data = values[petroleum_cond]"
   ]
  },
  {
   "cell_type": "code",
   "execution_count": 65,
   "id": "d723e6f4",
   "metadata": {},
   "outputs": [
    {
     "data": {
      "text/plain": [
       "(672, 6)"
      ]
     },
     "execution_count": 65,
     "metadata": {},
     "output_type": "execute_result"
    }
   ],
   "source": [
    "petroleum_data.shape"
   ]
  },
  {
   "cell_type": "code",
   "execution_count": 66,
   "id": "d08eadfe",
   "metadata": {},
   "outputs": [],
   "source": [
    "np.savetxt(\"petroleum.csv\",petroleum_data, fmt=\"%s\",delimiter=\",\")"
   ]
  },
  {
   "cell_type": "markdown",
   "id": "26080d8b",
   "metadata": {},
   "source": [
    "## Extract the Solar Data"
   ]
  },
  {
   "cell_type": "code",
   "execution_count": 67,
   "id": "035b7b7f",
   "metadata": {},
   "outputs": [],
   "source": [
    "solar_cond = values[:,4] == \"Electricity Net Generation From Solar, All Sectors\""
   ]
  },
  {
   "cell_type": "code",
   "execution_count": 71,
   "id": "3b5d3304",
   "metadata": {},
   "outputs": [],
   "source": [
    "solar_data = values[solar_cond]"
   ]
  },
  {
   "cell_type": "code",
   "execution_count": 72,
   "id": "31f04394",
   "metadata": {},
   "outputs": [
    {
     "data": {
      "text/plain": [
       "(672, 6)"
      ]
     },
     "execution_count": 72,
     "metadata": {},
     "output_type": "execute_result"
    }
   ],
   "source": [
    "solar_data.shape"
   ]
  },
  {
   "cell_type": "code",
   "execution_count": 73,
   "id": "b57297f1",
   "metadata": {},
   "outputs": [],
   "source": [
    "np.savetxt(\"solar.csv\",solar_data, fmt=\"%s\",delimiter=\",\")"
   ]
  },
  {
   "cell_type": "markdown",
   "id": "dc6eff68",
   "metadata": {},
   "source": [
    "## Extract the Waste Data"
   ]
  },
  {
   "cell_type": "code",
   "execution_count": 76,
   "id": "f518009d",
   "metadata": {},
   "outputs": [],
   "source": [
    "waste_cond = values[:,4] == \"Electricity Net Generation From Waste, All Sectors\""
   ]
  },
  {
   "cell_type": "code",
   "execution_count": 77,
   "id": "0d747836",
   "metadata": {},
   "outputs": [],
   "source": [
    "waste_data = values[waste_cond]"
   ]
  },
  {
   "cell_type": "code",
   "execution_count": 78,
   "id": "8e37d7e1",
   "metadata": {},
   "outputs": [
    {
     "data": {
      "text/plain": [
       "(672, 6)"
      ]
     },
     "execution_count": 78,
     "metadata": {},
     "output_type": "execute_result"
    }
   ],
   "source": [
    "waste_data.shape"
   ]
  },
  {
   "cell_type": "code",
   "execution_count": 79,
   "id": "8b0c9f81",
   "metadata": {},
   "outputs": [],
   "source": [
    "np.savetxt(\"waste.csv\",waste_data, fmt=\"%s\",delimiter=\",\")"
   ]
  },
  {
   "cell_type": "markdown",
   "id": "5ad16881",
   "metadata": {},
   "source": [
    "## Extract the Total(from_sources_not_shown) Data"
   ]
  },
  {
   "cell_type": "code",
   "execution_count": 83,
   "id": "b6ba386d",
   "metadata": {},
   "outputs": [],
   "source": [
    "total_cond = values[:,4] == \"Electricity Net Generation From Total(including from sources not shown), All Sectors\""
   ]
  },
  {
   "cell_type": "code",
   "execution_count": 84,
   "id": "019ebd29",
   "metadata": {},
   "outputs": [],
   "source": [
    "total_data = values[total_cond]"
   ]
  },
  {
   "cell_type": "code",
   "execution_count": 85,
   "id": "647207e0",
   "metadata": {},
   "outputs": [
    {
     "data": {
      "text/plain": [
       "(0, 6)"
      ]
     },
     "execution_count": 85,
     "metadata": {},
     "output_type": "execute_result"
    }
   ],
   "source": [
    "total_data.shape"
   ]
  },
  {
   "cell_type": "code",
   "execution_count": 86,
   "id": "28019158",
   "metadata": {},
   "outputs": [],
   "source": [
    "np.savetxt(\"total.csv\",total_data, fmt=\"%s\",delimiter=\",\")"
   ]
  },
  {
   "cell_type": "code",
   "execution_count": null,
   "id": "9033e9c4",
   "metadata": {},
   "outputs": [],
   "source": []
  }
 ],
 "metadata": {
  "kernelspec": {
   "display_name": "Python 3 (ipykernel)",
   "language": "python",
   "name": "python3"
  },
  "language_info": {
   "codemirror_mode": {
    "name": "ipython",
    "version": 3
   },
   "file_extension": ".py",
   "mimetype": "text/x-python",
   "name": "python",
   "nbconvert_exporter": "python",
   "pygments_lexer": "ipython3",
   "version": "3.9.13"
  }
 },
 "nbformat": 4,
 "nbformat_minor": 5
}
