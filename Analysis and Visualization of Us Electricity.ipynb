{
 "cells": [
  {
   "cell_type": "code",
   "execution_count": 42,
   "id": "5d659346",
   "metadata": {},
   "outputs": [],
   "source": [
    "import numpy as np\n",
    "import csv\n",
    "import matplotlib.pyplot as plt"
   ]
  },
  {
   "cell_type": "markdown",
   "id": "49d9af45",
   "metadata": {},
   "source": [
    "## Importing the Dataset"
   ]
  },
  {
   "cell_type": "code",
   "execution_count": 11,
   "id": "6bf2f7d0",
   "metadata": {},
   "outputs": [],
   "source": [
    "data = []\n",
    "\n",
    "#read the file\n",
    "with open(\"./raw_data.csv\",\"r\") as csvfile:\n",
    "    file_reader = csv.reader(csvfile)\n",
    "    \n",
    "    for row in file_reader:\n",
    "        data.append(row)\n",
    "        \n",
    "# change data into numpy array\n",
    "data = np.array(data)"
   ]
  },
  {
   "cell_type": "code",
   "execution_count": 4,
   "id": "478fc755",
   "metadata": {},
   "outputs": [
    {
     "data": {
      "text/plain": [
       "array([['MSN', 'YYYYMM', 'Value', 'Column_Order', 'Description', 'Unit'],\n",
       "       ['CLETPUS', '194913', '135451.32', '1',\n",
       "        'Electricity Net Generation From Coal, All Sectors',\n",
       "        'Million Kilowatthours'],\n",
       "       ['CLETPUS', '195013', '154519.994', '1',\n",
       "        'Electricity Net Generation From Coal, All Sectors',\n",
       "        'Million Kilowatthours'],\n",
       "       ...,\n",
       "       ['ELETPUS', '202209', '350919.559', '13',\n",
       "        'Electricity Net Generation Total (including from sources not shown), All Sectors',\n",
       "        'Million Kilowatthours'],\n",
       "       ['ELETPUS', '202210', '314048.288', '13',\n",
       "        'Electricity Net Generation Total (including from sources not shown), All Sectors',\n",
       "        'Million Kilowatthours'],\n",
       "       ['ELETPUS', '202211', '323198.745', '13',\n",
       "        'Electricity Net Generation Total (including from sources not shown), All Sectors',\n",
       "        'Million Kilowatthours']], dtype='<U80')"
      ]
     },
     "execution_count": 4,
     "metadata": {},
     "output_type": "execute_result"
    }
   ],
   "source": [
    "data"
   ]
  },
  {
   "cell_type": "code",
   "execution_count": 5,
   "id": "574ecf91",
   "metadata": {},
   "outputs": [
    {
     "data": {
      "text/plain": [
       "(8737, 6)"
      ]
     },
     "execution_count": 5,
     "metadata": {},
     "output_type": "execute_result"
    }
   ],
   "source": [
    "data.shape"
   ]
  },
  {
   "cell_type": "markdown",
   "id": "7bfd1816",
   "metadata": {},
   "source": [
    "## saving File"
   ]
  },
  {
   "cell_type": "code",
   "execution_count": 15,
   "id": "34bad532",
   "metadata": {},
   "outputs": [],
   "source": [
    "np.savetxt(\"energy.csv\",data, fmt=\"%s\",delimiter=\",\")"
   ]
  },
  {
   "cell_type": "markdown",
   "id": "100b1120",
   "metadata": {},
   "source": [
    "## Describe Data"
   ]
  },
  {
   "cell_type": "code",
   "execution_count": 8,
   "id": "0380d9d8",
   "metadata": {},
   "outputs": [
    {
     "name": "stdout",
     "output_type": "stream",
     "text": [
      "Header:\n",
      " ['MSN' 'YYYYMM' 'Value' 'Column_Order' 'Description' 'Unit'] \n",
      "\n",
      " values\n",
      " [['CLETPUS' '194913' '135451.32' '1'\n",
      "  'Electricity Net Generation From Coal, All Sectors'\n",
      "  'Million Kilowatthours']\n",
      " ['CLETPUS' '195013' '154519.994' '1'\n",
      "  'Electricity Net Generation From Coal, All Sectors'\n",
      "  'Million Kilowatthours']\n",
      " ['CLETPUS' '195113' '185203.657' '1'\n",
      "  'Electricity Net Generation From Coal, All Sectors'\n",
      "  'Million Kilowatthours']\n",
      " ...\n",
      " ['ELETPUS' '202209' '350919.559' '13'\n",
      "  'Electricity Net Generation Total (including from sources not shown), All Sectors'\n",
      "  'Million Kilowatthours']\n",
      " ['ELETPUS' '202210' '314048.288' '13'\n",
      "  'Electricity Net Generation Total (including from sources not shown), All Sectors'\n",
      "  'Million Kilowatthours']\n",
      " ['ELETPUS' '202211' '323198.745' '13'\n",
      "  'Electricity Net Generation Total (including from sources not shown), All Sectors'\n",
      "  'Million Kilowatthours']]\n"
     ]
    }
   ],
   "source": [
    "#Use indexing to call out rows\n",
    "\n",
    "header = data[0,:]\n",
    "values = data[1:,:]\n",
    "\n",
    "print(\"Header:\\n\",header,\"\\n\\n values\\n\",values)"
   ]
  },
  {
   "cell_type": "markdown",
   "id": "83b40fc2",
   "metadata": {},
   "source": [
    "## Sources of Energy in US"
   ]
  },
  {
   "cell_type": "code",
   "execution_count": 7,
   "id": "79b26050",
   "metadata": {},
   "outputs": [
    {
     "data": {
      "text/plain": [
       "8736"
      ]
     },
     "execution_count": 7,
     "metadata": {},
     "output_type": "execute_result"
    }
   ],
   "source": [
    "len(values[:,4])"
   ]
  },
  {
   "cell_type": "code",
   "execution_count": 8,
   "id": "40b06c15",
   "metadata": {},
   "outputs": [
    {
     "data": {
      "text/plain": [
       "13"
      ]
     },
     "execution_count": 8,
     "metadata": {},
     "output_type": "execute_result"
    }
   ],
   "source": [
    "len(np.unique(values[:,4]))"
   ]
  },
  {
   "cell_type": "code",
   "execution_count": 9,
   "id": "16a4b0e4",
   "metadata": {},
   "outputs": [
    {
     "name": "stdout",
     "output_type": "stream",
     "text": [
      "US Generate Electricity from 13 sources\n",
      "\n",
      "\n",
      "['Electricity Net Generation From Coal, All Sectors'\n",
      " 'Electricity Net Generation From Conventional Hydroelectric Power, All Sectors'\n",
      " 'Electricity Net Generation From Geothermal, All Sectors'\n",
      " 'Electricity Net Generation From Hydroelectric Pumped Storage, All Sectors'\n",
      " 'Electricity Net Generation From Natural Gas, All Sectors'\n",
      " 'Electricity Net Generation From Nuclear Electric Power, All Sectors'\n",
      " 'Electricity Net Generation From Other Gases, All Sectors'\n",
      " 'Electricity Net Generation From Petroleum, All Sectors'\n",
      " 'Electricity Net Generation From Solar, All Sectors'\n",
      " 'Electricity Net Generation From Waste, All Sectors'\n",
      " 'Electricity Net Generation From Wind, All Sectors'\n",
      " 'Electricity Net Generation From Wood, All Sectors'\n",
      " 'Electricity Net Generation Total (including from sources not shown), All Sectors']\n"
     ]
    }
   ],
   "source": [
    "num_of_source = len(np.unique(values[:,4]))\n",
    "print(\"US Generate Electricity from {} sources\\n\\n\".format(num_of_source))\n",
    "print(np.unique(values[:,4]))"
   ]
  },
  {
   "cell_type": "markdown",
   "id": "a4ddeaa0",
   "metadata": {},
   "source": [
    "## Extract the wind energy data"
   ]
  },
  {
   "cell_type": "code",
   "execution_count": 12,
   "id": "3827fc45",
   "metadata": {},
   "outputs": [],
   "source": [
    "wind_cond = values[:,4] == \"Electricity Net Generation From Wind, All Sectors\""
   ]
  },
  {
   "cell_type": "code",
   "execution_count": 13,
   "id": "727a4708",
   "metadata": {},
   "outputs": [],
   "source": [
    "wind_data = values[wind_cond]"
   ]
  },
  {
   "cell_type": "code",
   "execution_count": 14,
   "id": "56d1c96f",
   "metadata": {},
   "outputs": [
    {
     "data": {
      "text/plain": [
       "(672, 6)"
      ]
     },
     "execution_count": 14,
     "metadata": {},
     "output_type": "execute_result"
    }
   ],
   "source": [
    "wind_data.shape"
   ]
  },
  {
   "cell_type": "markdown",
   "id": "938bdf41",
   "metadata": {},
   "source": [
    "## save into file"
   ]
  },
  {
   "cell_type": "code",
   "execution_count": 51,
   "id": "b7608cec",
   "metadata": {},
   "outputs": [],
   "source": [
    "np.savetxt(\"wind.csv\",wind_data, fmt=\"%s\",delimiter=\",\")"
   ]
  },
  {
   "cell_type": "markdown",
   "id": "9589cf5e",
   "metadata": {},
   "source": [
    "## Extract the wood energy data"
   ]
  },
  {
   "cell_type": "code",
   "execution_count": 14,
   "id": "50bbfddb",
   "metadata": {},
   "outputs": [],
   "source": [
    "wood_cond = values[:,4] == 'Electricity Net Generation From Wood, All Sectors'"
   ]
  },
  {
   "cell_type": "code",
   "execution_count": 15,
   "id": "c382333b",
   "metadata": {},
   "outputs": [],
   "source": [
    "wood_data = values[wood_cond]"
   ]
  },
  {
   "cell_type": "code",
   "execution_count": 55,
   "id": "dce23e33",
   "metadata": {},
   "outputs": [
    {
     "data": {
      "text/plain": [
       "array([['WDETPUS', '194913', '386.036', '8',\n",
       "        'Electricity Net Generation From Wood, All Sectors',\n",
       "        'Million Kilowatthours'],\n",
       "       ['WDETPUS', '195013', '389.585', '8',\n",
       "        'Electricity Net Generation From Wood, All Sectors',\n",
       "        'Million Kilowatthours'],\n",
       "       ['WDETPUS', '195113', '390.784', '8',\n",
       "        'Electricity Net Generation From Wood, All Sectors',\n",
       "        'Million Kilowatthours'],\n",
       "       ...,\n",
       "       ['WDETPUS', '202209', '2891.532', '8',\n",
       "        'Electricity Net Generation From Wood, All Sectors',\n",
       "        'Million Kilowatthours'],\n",
       "       ['WDETPUS', '202210', '2649.35', '8',\n",
       "        'Electricity Net Generation From Wood, All Sectors',\n",
       "        'Million Kilowatthours'],\n",
       "       ['WDETPUS', '202211', '3004.351', '8',\n",
       "        'Electricity Net Generation From Wood, All Sectors',\n",
       "        'Million Kilowatthours']], dtype='<U80')"
      ]
     },
     "execution_count": 55,
     "metadata": {},
     "output_type": "execute_result"
    }
   ],
   "source": [
    "wood_data"
   ]
  },
  {
   "cell_type": "code",
   "execution_count": 16,
   "id": "2ff1c00e",
   "metadata": {},
   "outputs": [
    {
     "data": {
      "text/plain": [
       "(672, 6)"
      ]
     },
     "execution_count": 16,
     "metadata": {},
     "output_type": "execute_result"
    }
   ],
   "source": [
    "wood_data.shape"
   ]
  },
  {
   "cell_type": "code",
   "execution_count": 17,
   "id": "b0155eb1",
   "metadata": {},
   "outputs": [],
   "source": [
    "np.savetxt(\"wood.csv\",wood_data, fmt=\"%s\",delimiter=\",\")"
   ]
  },
  {
   "cell_type": "markdown",
   "id": "10a6d299",
   "metadata": {},
   "source": [
    "## Extract the coal energy data"
   ]
  },
  {
   "cell_type": "code",
   "execution_count": 18,
   "id": "459fc4af",
   "metadata": {},
   "outputs": [],
   "source": [
    "coal_cond = values[:,4] == \"Electricity Net Generation From Coal, All Sectors\""
   ]
  },
  {
   "cell_type": "code",
   "execution_count": 19,
   "id": "f17e8b06",
   "metadata": {},
   "outputs": [],
   "source": [
    "coal_data = values[wind_cond]"
   ]
  },
  {
   "cell_type": "code",
   "execution_count": 20,
   "id": "0ec96071",
   "metadata": {},
   "outputs": [
    {
     "data": {
      "text/plain": [
       "(672, 6)"
      ]
     },
     "execution_count": 20,
     "metadata": {},
     "output_type": "execute_result"
    }
   ],
   "source": [
    "coal_data.shape"
   ]
  },
  {
   "cell_type": "code",
   "execution_count": 21,
   "id": "9069ba16",
   "metadata": {},
   "outputs": [],
   "source": [
    "np.savetxt(\"coal.csv\",coal_data, fmt=\"%s\",delimiter=\",\")"
   ]
  },
  {
   "cell_type": "markdown",
   "id": "128b5c91",
   "metadata": {},
   "source": [
    "## Extract the conventional_hydro energy data"
   ]
  },
  {
   "cell_type": "code",
   "execution_count": 22,
   "id": "0e171c8d",
   "metadata": {},
   "outputs": [],
   "source": [
    "conventional_hydro_cond = values[:,4] == \"Electricity Net Generation From Conventional Hydroelectric Power, All Sectors\""
   ]
  },
  {
   "cell_type": "code",
   "execution_count": 23,
   "id": "8ce20df7",
   "metadata": {},
   "outputs": [],
   "source": [
    "conventional_hydro_data = values[wind_cond]"
   ]
  },
  {
   "cell_type": "code",
   "execution_count": 24,
   "id": "21a0b8d3",
   "metadata": {},
   "outputs": [
    {
     "data": {
      "text/plain": [
       "(672, 6)"
      ]
     },
     "execution_count": 24,
     "metadata": {},
     "output_type": "execute_result"
    }
   ],
   "source": [
    "conventional_hydro_data.shape"
   ]
  },
  {
   "cell_type": "code",
   "execution_count": 25,
   "id": "19d47125",
   "metadata": {},
   "outputs": [],
   "source": [
    "np.savetxt(\"conventional_hydro.csv\",conventional_hydro_data, fmt=\"%s\",delimiter=\",\")"
   ]
  },
  {
   "cell_type": "markdown",
   "id": "cc19c7d5",
   "metadata": {},
   "source": [
    "## Extract the Geothermal energy data"
   ]
  },
  {
   "cell_type": "code",
   "execution_count": 26,
   "id": "325ed55b",
   "metadata": {},
   "outputs": [],
   "source": [
    "Geothermal_cond = values[:,4] == \"Electricity Net Generation From Geothermal, All Sectors\""
   ]
  },
  {
   "cell_type": "code",
   "execution_count": 28,
   "id": "d7f34fc7",
   "metadata": {},
   "outputs": [],
   "source": [
    "Geothermal_data = values[Geothermal_cond]"
   ]
  },
  {
   "cell_type": "code",
   "execution_count": 29,
   "id": "57c1b911",
   "metadata": {},
   "outputs": [
    {
     "data": {
      "text/plain": [
       "(672, 6)"
      ]
     },
     "execution_count": 29,
     "metadata": {},
     "output_type": "execute_result"
    }
   ],
   "source": [
    "Geothermal_data.shape"
   ]
  },
  {
   "cell_type": "code",
   "execution_count": 30,
   "id": "78930b8a",
   "metadata": {},
   "outputs": [],
   "source": [
    "np.savetxt(\"Geothermal.csv\",Geothermal_data, fmt=\"%s\",delimiter=\",\")"
   ]
  },
  {
   "cell_type": "markdown",
   "id": "fc8e43e3",
   "metadata": {},
   "source": [
    "## Extract the Hydroelectric pumped storage data"
   ]
  },
  {
   "cell_type": "code",
   "execution_count": 32,
   "id": "68ec8673",
   "metadata": {},
   "outputs": [],
   "source": [
    "Hydroelectric_pumped_cond = values[:,4] == \"Electricity Net Generation From Hydroelectric Pumped Storage, All Sectors\""
   ]
  },
  {
   "cell_type": "code",
   "execution_count": 33,
   "id": "0dbe93bf",
   "metadata": {},
   "outputs": [],
   "source": [
    "Hydroelectric_pumped_data = values[Geothermal_cond]"
   ]
  },
  {
   "cell_type": "code",
   "execution_count": 34,
   "id": "5d515345",
   "metadata": {},
   "outputs": [
    {
     "data": {
      "text/plain": [
       "(672, 6)"
      ]
     },
     "execution_count": 34,
     "metadata": {},
     "output_type": "execute_result"
    }
   ],
   "source": [
    "Hydroelectric_pumped_data.shape"
   ]
  },
  {
   "cell_type": "code",
   "execution_count": 35,
   "id": "18c28de9",
   "metadata": {},
   "outputs": [],
   "source": [
    "np.savetxt(\"Hydroelectric_pumped.csv\",Hydroelectric_pumped_data, fmt=\"%s\",delimiter=\",\")"
   ]
  },
  {
   "cell_type": "markdown",
   "id": "2c06bef1",
   "metadata": {},
   "source": [
    "## Extract the Natural Gas data"
   ]
  },
  {
   "cell_type": "code",
   "execution_count": 43,
   "id": "9492f4a0",
   "metadata": {},
   "outputs": [],
   "source": [
    "Natural_gas_cond = values[:,4] == \"Electricity Net Generation From Natural Gas, All Sectors\""
   ]
  },
  {
   "cell_type": "code",
   "execution_count": 44,
   "id": "2832c9dd",
   "metadata": {},
   "outputs": [],
   "source": [
    "Natural_gas_data = values[Natural_gas_cond]"
   ]
  },
  {
   "cell_type": "code",
   "execution_count": 45,
   "id": "85dc1004",
   "metadata": {},
   "outputs": [
    {
     "data": {
      "text/plain": [
       "(672, 6)"
      ]
     },
     "execution_count": 45,
     "metadata": {},
     "output_type": "execute_result"
    }
   ],
   "source": [
    "Natural_gas_data.shape"
   ]
  },
  {
   "cell_type": "code",
   "execution_count": 47,
   "id": "79600d81",
   "metadata": {},
   "outputs": [],
   "source": [
    "np.savetxt(\"Natural_gas.csv\",Natural_gas_data, fmt=\"%s\",delimiter=\",\")"
   ]
  },
  {
   "cell_type": "markdown",
   "id": "99ed61fa",
   "metadata": {},
   "source": [
    "## Extract the Nuclear electric Power Data"
   ]
  },
  {
   "cell_type": "code",
   "execution_count": 49,
   "id": "8c731060",
   "metadata": {},
   "outputs": [],
   "source": [
    "Nuclear_electric_cond = values[:,4] == \"Electricity Net Generation From Nuclear electric Power, All Sectors\""
   ]
  },
  {
   "cell_type": "code",
   "execution_count": 50,
   "id": "c8a1404c",
   "metadata": {},
   "outputs": [],
   "source": [
    "Nuclear_electric_data = values[Nuclear_electric_cond]"
   ]
  },
  {
   "cell_type": "code",
   "execution_count": 51,
   "id": "cb50e9f3",
   "metadata": {},
   "outputs": [
    {
     "data": {
      "text/plain": [
       "(0, 6)"
      ]
     },
     "execution_count": 51,
     "metadata": {},
     "output_type": "execute_result"
    }
   ],
   "source": [
    "Nuclear_electric_data.shape"
   ]
  },
  {
   "cell_type": "code",
   "execution_count": 52,
   "id": "b4674ba4",
   "metadata": {},
   "outputs": [],
   "source": [
    "np.savetxt(\"Nuclear_electric.csv\",Nuclear_electric_data, fmt=\"%s\",delimiter=\",\")"
   ]
  },
  {
   "cell_type": "markdown",
   "id": "34df640a",
   "metadata": {},
   "source": [
    "## Extract the Other Gases Data"
   ]
  },
  {
   "cell_type": "code",
   "execution_count": 55,
   "id": "96be3972",
   "metadata": {},
   "outputs": [],
   "source": [
    "other_gases_cond = values[:,4] == \"Electricity Net Generation From Other Gases, All Sectors\""
   ]
  },
  {
   "cell_type": "code",
   "execution_count": 56,
   "id": "7d6cfe18",
   "metadata": {},
   "outputs": [],
   "source": [
    "other_gases_data = values[other_gases_cond]"
   ]
  },
  {
   "cell_type": "code",
   "execution_count": 57,
   "id": "a3424c41",
   "metadata": {},
   "outputs": [
    {
     "data": {
      "text/plain": [
       "(672, 6)"
      ]
     },
     "execution_count": 57,
     "metadata": {},
     "output_type": "execute_result"
    }
   ],
   "source": [
    "other_gases_data.shape"
   ]
  },
  {
   "cell_type": "code",
   "execution_count": 58,
   "id": "57319e93",
   "metadata": {},
   "outputs": [],
   "source": [
    "np.savetxt(\"other_gases.csv\",other_gases_data, fmt=\"%s\",delimiter=\",\")"
   ]
  },
  {
   "cell_type": "markdown",
   "id": "1bd59a95",
   "metadata": {},
   "source": [
    "## Extract the Petroleum Data"
   ]
  },
  {
   "cell_type": "code",
   "execution_count": 63,
   "id": "fb2e2048",
   "metadata": {},
   "outputs": [],
   "source": [
    "petroleum_cond = values[:,4] == \"Electricity Net Generation From Petroleum, All Sectors\""
   ]
  },
  {
   "cell_type": "code",
   "execution_count": 64,
   "id": "cbedfb98",
   "metadata": {},
   "outputs": [],
   "source": [
    "petroleum_data = values[petroleum_cond]"
   ]
  },
  {
   "cell_type": "code",
   "execution_count": 65,
   "id": "d723e6f4",
   "metadata": {},
   "outputs": [
    {
     "data": {
      "text/plain": [
       "(672, 6)"
      ]
     },
     "execution_count": 65,
     "metadata": {},
     "output_type": "execute_result"
    }
   ],
   "source": [
    "petroleum_data.shape"
   ]
  },
  {
   "cell_type": "code",
   "execution_count": 66,
   "id": "d08eadfe",
   "metadata": {},
   "outputs": [],
   "source": [
    "np.savetxt(\"petroleum.csv\",petroleum_data, fmt=\"%s\",delimiter=\",\")"
   ]
  },
  {
   "cell_type": "markdown",
   "id": "26080d8b",
   "metadata": {},
   "source": [
    "## Extract the Solar Data"
   ]
  },
  {
   "cell_type": "code",
   "execution_count": 67,
   "id": "035b7b7f",
   "metadata": {},
   "outputs": [],
   "source": [
    "solar_cond = values[:,4] == \"Electricity Net Generation From Solar, All Sectors\""
   ]
  },
  {
   "cell_type": "code",
   "execution_count": 71,
   "id": "3b5d3304",
   "metadata": {},
   "outputs": [],
   "source": [
    "solar_data = values[solar_cond]"
   ]
  },
  {
   "cell_type": "code",
   "execution_count": 72,
   "id": "31f04394",
   "metadata": {},
   "outputs": [
    {
     "data": {
      "text/plain": [
       "(672, 6)"
      ]
     },
     "execution_count": 72,
     "metadata": {},
     "output_type": "execute_result"
    }
   ],
   "source": [
    "solar_data.shape"
   ]
  },
  {
   "cell_type": "code",
   "execution_count": 73,
   "id": "b57297f1",
   "metadata": {},
   "outputs": [],
   "source": [
    "np.savetxt(\"solar.csv\",solar_data, fmt=\"%s\",delimiter=\",\")"
   ]
  },
  {
   "cell_type": "markdown",
   "id": "dc6eff68",
   "metadata": {},
   "source": [
    "## Extract the Waste Data"
   ]
  },
  {
   "cell_type": "code",
   "execution_count": 76,
   "id": "f518009d",
   "metadata": {},
   "outputs": [],
   "source": [
    "waste_cond = values[:,4] == \"Electricity Net Generation From Waste, All Sectors\""
   ]
  },
  {
   "cell_type": "code",
   "execution_count": 77,
   "id": "0d747836",
   "metadata": {},
   "outputs": [],
   "source": [
    "waste_data = values[waste_cond]"
   ]
  },
  {
   "cell_type": "code",
   "execution_count": 78,
   "id": "8e37d7e1",
   "metadata": {},
   "outputs": [
    {
     "data": {
      "text/plain": [
       "(672, 6)"
      ]
     },
     "execution_count": 78,
     "metadata": {},
     "output_type": "execute_result"
    }
   ],
   "source": [
    "waste_data.shape"
   ]
  },
  {
   "cell_type": "code",
   "execution_count": 79,
   "id": "8b0c9f81",
   "metadata": {},
   "outputs": [],
   "source": [
    "np.savetxt(\"waste.csv\",waste_data, fmt=\"%s\",delimiter=\",\")"
   ]
  },
  {
   "cell_type": "markdown",
   "id": "5ad16881",
   "metadata": {},
   "source": [
    "## Extract the Total(from_sources_not_shown) Data"
   ]
  },
  {
   "cell_type": "code",
   "execution_count": 83,
   "id": "b6ba386d",
   "metadata": {},
   "outputs": [],
   "source": [
    "total_cond = values[:,4] == \"Electricity Net Generation From Total(including from sources not shown), All Sectors\""
   ]
  },
  {
   "cell_type": "code",
   "execution_count": 84,
   "id": "019ebd29",
   "metadata": {},
   "outputs": [],
   "source": [
    "total_data = values[total_cond]"
   ]
  },
  {
   "cell_type": "code",
   "execution_count": 85,
   "id": "647207e0",
   "metadata": {},
   "outputs": [
    {
     "data": {
      "text/plain": [
       "(0, 6)"
      ]
     },
     "execution_count": 85,
     "metadata": {},
     "output_type": "execute_result"
    }
   ],
   "source": [
    "total_data.shape"
   ]
  },
  {
   "cell_type": "code",
   "execution_count": 86,
   "id": "28019158",
   "metadata": {},
   "outputs": [],
   "source": [
    "np.savetxt(\"total.csv\",total_data, fmt=\"%s\",delimiter=\",\")"
   ]
  },
  {
   "cell_type": "code",
   "execution_count": null,
   "id": "9033e9c4",
   "metadata": {},
   "outputs": [],
   "source": []
  },
  {
   "cell_type": "code",
   "execution_count": null,
   "id": "959d2ab9",
   "metadata": {},
   "outputs": [],
   "source": []
  },
  {
   "cell_type": "code",
   "execution_count": 15,
   "id": "b3fb1b22",
   "metadata": {},
   "outputs": [
    {
     "data": {
      "text/plain": [
       "array([['WYETPUS', '194913', 'Not Available', '12',\n",
       "        'Electricity Net Generation From Wind, All Sectors',\n",
       "        'Million Kilowatthours'],\n",
       "       ['WYETPUS', '195013', 'Not Available', '12',\n",
       "        'Electricity Net Generation From Wind, All Sectors',\n",
       "        'Million Kilowatthours'],\n",
       "       ['WYETPUS', '195113', 'Not Available', '12',\n",
       "        'Electricity Net Generation From Wind, All Sectors',\n",
       "        'Million Kilowatthours'],\n",
       "       ...,\n",
       "       ['WYETPUS', '202209', '27024.307', '12',\n",
       "        'Electricity Net Generation From Wind, All Sectors',\n",
       "        'Million Kilowatthours'],\n",
       "       ['WYETPUS', '202210', '32824.906', '12',\n",
       "        'Electricity Net Generation From Wind, All Sectors',\n",
       "        'Million Kilowatthours'],\n",
       "       ['WYETPUS', '202211', '41971.407', '12',\n",
       "        'Electricity Net Generation From Wind, All Sectors',\n",
       "        'Million Kilowatthours']], dtype='<U80')"
      ]
     },
     "execution_count": 15,
     "metadata": {},
     "output_type": "execute_result"
    }
   ],
   "source": [
    "wind_data"
   ]
  },
  {
   "cell_type": "markdown",
   "id": "199fe6e0",
   "metadata": {},
   "source": [
    "## EDA - Eploratory Data analysis"
   ]
  },
  {
   "cell_type": "code",
   "execution_count": 17,
   "id": "212fdc43",
   "metadata": {},
   "outputs": [
    {
     "name": "stdout",
     "output_type": "stream",
     "text": [
      "Row: 672\n",
      "Column: 6\n"
     ]
    }
   ],
   "source": [
    "# Return the shape of my data\n",
    "print(\"Row:\",wind_data.shape[0])\n",
    "print(\"Column:\",wind_data.shape[1])"
   ]
  },
  {
   "cell_type": "markdown",
   "id": "66acbd39",
   "metadata": {},
   "source": [
    "## Data cleaning"
   ]
  },
  {
   "cell_type": "markdown",
   "id": "d5139774",
   "metadata": {},
   "source": [
    "In the value column,some data point include \"Not Available\" which means </br> energy were not recorded under wind for that year."
   ]
  },
  {
   "cell_type": "code",
   "execution_count": 27,
   "id": "0876a3db",
   "metadata": {},
   "outputs": [
    {
     "data": {
      "text/plain": [
       "array([ True,  True,  True,  True,  True,  True,  True,  True,  True,\n",
       "        True,  True,  True,  True,  True,  True,  True,  True,  True,\n",
       "        True,  True,  True,  True,  True,  True,  True,  True,  True,\n",
       "        True,  True,  True,  True,  True,  True,  True,  True,  True,\n",
       "        True,  True,  True,  True,  True,  True,  True,  True,  True,\n",
       "        True,  True,  True,  True,  True,  True,  True,  True,  True,\n",
       "        True,  True,  True,  True,  True,  True,  True,  True,  True,\n",
       "        True,  True,  True,  True,  True,  True,  True,  True,  True,\n",
       "        True,  True,  True,  True,  True,  True,  True,  True,  True,\n",
       "        True,  True,  True,  True,  True,  True,  True,  True,  True,\n",
       "        True,  True,  True,  True,  True,  True,  True,  True,  True,\n",
       "        True,  True,  True,  True,  True,  True,  True,  True,  True,\n",
       "        True,  True,  True,  True,  True,  True,  True,  True,  True,\n",
       "        True,  True,  True,  True,  True,  True,  True,  True,  True,\n",
       "        True,  True,  True,  True,  True,  True,  True,  True,  True,\n",
       "        True,  True,  True,  True,  True,  True,  True,  True,  True,\n",
       "        True,  True,  True,  True,  True,  True,  True,  True,  True,\n",
       "        True, False, False, False, False, False, False, False, False,\n",
       "       False, False, False, False, False, False, False, False, False,\n",
       "       False, False, False, False, False, False, False, False, False,\n",
       "       False, False, False, False, False, False, False, False, False,\n",
       "       False, False, False, False, False, False, False, False, False,\n",
       "       False, False, False, False, False, False, False, False, False,\n",
       "       False, False, False, False, False, False, False, False, False,\n",
       "       False, False, False, False, False, False, False, False, False,\n",
       "       False, False, False, False, False, False, False, False, False,\n",
       "       False, False, False, False, False, False, False, False, False,\n",
       "       False, False, False, False, False, False, False, False, False,\n",
       "       False, False, False, False, False, False, False, False, False,\n",
       "       False, False, False, False, False, False, False, False, False,\n",
       "       False, False, False, False, False, False, False, False, False,\n",
       "       False, False, False, False, False, False, False, False, False,\n",
       "       False, False, False, False, False, False, False, False, False,\n",
       "       False, False, False, False, False, False, False, False, False,\n",
       "       False, False, False, False, False, False, False, False, False,\n",
       "       False, False, False, False, False, False, False, False, False,\n",
       "       False, False, False, False, False, False, False, False, False,\n",
       "       False, False, False, False, False, False, False, False, False,\n",
       "       False, False, False, False, False, False, False, False, False,\n",
       "       False, False, False, False, False, False, False, False, False,\n",
       "       False, False, False, False, False, False, False, False, False,\n",
       "       False, False, False, False, False, False, False, False, False,\n",
       "       False, False, False, False, False, False, False, False, False,\n",
       "       False, False, False, False, False, False, False, False, False,\n",
       "       False, False, False, False, False, False, False, False, False,\n",
       "       False, False, False, False, False, False, False, False, False,\n",
       "       False, False, False, False, False, False, False, False, False,\n",
       "       False, False, False, False, False, False, False, False, False,\n",
       "       False, False, False, False, False, False, False, False, False,\n",
       "       False, False, False, False, False, False, False, False, False,\n",
       "       False, False, False, False, False, False, False, False, False,\n",
       "       False, False, False, False, False, False, False, False, False,\n",
       "       False, False, False, False, False, False, False, False, False,\n",
       "       False, False, False, False, False, False, False, False, False,\n",
       "       False, False, False, False, False, False, False, False, False,\n",
       "       False, False, False, False, False, False, False, False, False,\n",
       "       False, False, False, False, False, False, False, False, False,\n",
       "       False, False, False, False, False, False, False, False, False,\n",
       "       False, False, False, False, False, False, False, False, False,\n",
       "       False, False, False, False, False, False, False, False, False,\n",
       "       False, False, False, False, False, False, False, False, False,\n",
       "       False, False, False, False, False, False, False, False, False,\n",
       "       False, False, False, False, False, False, False, False, False,\n",
       "       False, False, False, False, False, False, False, False, False,\n",
       "       False, False, False, False, False, False, False, False, False,\n",
       "       False, False, False, False, False, False, False, False, False,\n",
       "       False, False, False, False, False, False, False, False, False,\n",
       "       False, False, False, False, False, False, False, False, False,\n",
       "       False, False, False, False, False, False, False, False, False,\n",
       "       False, False, False, False, False, False, False, False, False,\n",
       "       False, False, False, False, False, False, False, False, False,\n",
       "       False, False, False, False, False, False, False, False, False,\n",
       "       False, False, False, False, False, False, False, False, False,\n",
       "       False, False, False, False, False, False, False, False, False,\n",
       "       False, False, False, False, False, False])"
      ]
     },
     "execution_count": 27,
     "metadata": {},
     "output_type": "execute_result"
    }
   ],
   "source": [
    "## Check for rows that contain \"Not Available\"\n",
    "\n",
    "wind_data[:,2] == \"Not Available\""
   ]
  },
  {
   "cell_type": "code",
   "execution_count": 23,
   "id": "ca00a398",
   "metadata": {},
   "outputs": [
    {
     "data": {
      "text/plain": [
       "array([['WYETPUS', '194913', 'Not Available', '12',\n",
       "        'Electricity Net Generation From Wind, All Sectors',\n",
       "        'Million Kilowatthours'],\n",
       "       ['WYETPUS', '195013', 'Not Available', '12',\n",
       "        'Electricity Net Generation From Wind, All Sectors',\n",
       "        'Million Kilowatthours'],\n",
       "       ['WYETPUS', '195113', 'Not Available', '12',\n",
       "        'Electricity Net Generation From Wind, All Sectors',\n",
       "        'Million Kilowatthours'],\n",
       "       ['WYETPUS', '195213', 'Not Available', '12',\n",
       "        'Electricity Net Generation From Wind, All Sectors',\n",
       "        'Million Kilowatthours'],\n",
       "       ['WYETPUS', '195313', 'Not Available', '12',\n",
       "        'Electricity Net Generation From Wind, All Sectors',\n",
       "        'Million Kilowatthours'],\n",
       "       ['WYETPUS', '195413', 'Not Available', '12',\n",
       "        'Electricity Net Generation From Wind, All Sectors',\n",
       "        'Million Kilowatthours'],\n",
       "       ['WYETPUS', '195513', 'Not Available', '12',\n",
       "        'Electricity Net Generation From Wind, All Sectors',\n",
       "        'Million Kilowatthours'],\n",
       "       ['WYETPUS', '195613', 'Not Available', '12',\n",
       "        'Electricity Net Generation From Wind, All Sectors',\n",
       "        'Million Kilowatthours'],\n",
       "       ['WYETPUS', '195713', 'Not Available', '12',\n",
       "        'Electricity Net Generation From Wind, All Sectors',\n",
       "        'Million Kilowatthours'],\n",
       "       ['WYETPUS', '195813', 'Not Available', '12',\n",
       "        'Electricity Net Generation From Wind, All Sectors',\n",
       "        'Million Kilowatthours'],\n",
       "       ['WYETPUS', '195913', 'Not Available', '12',\n",
       "        'Electricity Net Generation From Wind, All Sectors',\n",
       "        'Million Kilowatthours'],\n",
       "       ['WYETPUS', '196013', 'Not Available', '12',\n",
       "        'Electricity Net Generation From Wind, All Sectors',\n",
       "        'Million Kilowatthours'],\n",
       "       ['WYETPUS', '196113', 'Not Available', '12',\n",
       "        'Electricity Net Generation From Wind, All Sectors',\n",
       "        'Million Kilowatthours'],\n",
       "       ['WYETPUS', '196213', 'Not Available', '12',\n",
       "        'Electricity Net Generation From Wind, All Sectors',\n",
       "        'Million Kilowatthours'],\n",
       "       ['WYETPUS', '196313', 'Not Available', '12',\n",
       "        'Electricity Net Generation From Wind, All Sectors',\n",
       "        'Million Kilowatthours'],\n",
       "       ['WYETPUS', '196413', 'Not Available', '12',\n",
       "        'Electricity Net Generation From Wind, All Sectors',\n",
       "        'Million Kilowatthours'],\n",
       "       ['WYETPUS', '196513', 'Not Available', '12',\n",
       "        'Electricity Net Generation From Wind, All Sectors',\n",
       "        'Million Kilowatthours'],\n",
       "       ['WYETPUS', '196613', 'Not Available', '12',\n",
       "        'Electricity Net Generation From Wind, All Sectors',\n",
       "        'Million Kilowatthours'],\n",
       "       ['WYETPUS', '196713', 'Not Available', '12',\n",
       "        'Electricity Net Generation From Wind, All Sectors',\n",
       "        'Million Kilowatthours'],\n",
       "       ['WYETPUS', '196813', 'Not Available', '12',\n",
       "        'Electricity Net Generation From Wind, All Sectors',\n",
       "        'Million Kilowatthours'],\n",
       "       ['WYETPUS', '196913', 'Not Available', '12',\n",
       "        'Electricity Net Generation From Wind, All Sectors',\n",
       "        'Million Kilowatthours'],\n",
       "       ['WYETPUS', '197013', 'Not Available', '12',\n",
       "        'Electricity Net Generation From Wind, All Sectors',\n",
       "        'Million Kilowatthours'],\n",
       "       ['WYETPUS', '197113', 'Not Available', '12',\n",
       "        'Electricity Net Generation From Wind, All Sectors',\n",
       "        'Million Kilowatthours'],\n",
       "       ['WYETPUS', '197213', 'Not Available', '12',\n",
       "        'Electricity Net Generation From Wind, All Sectors',\n",
       "        'Million Kilowatthours'],\n",
       "       ['WYETPUS', '197301', 'Not Available', '12',\n",
       "        'Electricity Net Generation From Wind, All Sectors',\n",
       "        'Million Kilowatthours'],\n",
       "       ['WYETPUS', '197302', 'Not Available', '12',\n",
       "        'Electricity Net Generation From Wind, All Sectors',\n",
       "        'Million Kilowatthours'],\n",
       "       ['WYETPUS', '197303', 'Not Available', '12',\n",
       "        'Electricity Net Generation From Wind, All Sectors',\n",
       "        'Million Kilowatthours'],\n",
       "       ['WYETPUS', '197304', 'Not Available', '12',\n",
       "        'Electricity Net Generation From Wind, All Sectors',\n",
       "        'Million Kilowatthours'],\n",
       "       ['WYETPUS', '197305', 'Not Available', '12',\n",
       "        'Electricity Net Generation From Wind, All Sectors',\n",
       "        'Million Kilowatthours'],\n",
       "       ['WYETPUS', '197306', 'Not Available', '12',\n",
       "        'Electricity Net Generation From Wind, All Sectors',\n",
       "        'Million Kilowatthours'],\n",
       "       ['WYETPUS', '197307', 'Not Available', '12',\n",
       "        'Electricity Net Generation From Wind, All Sectors',\n",
       "        'Million Kilowatthours'],\n",
       "       ['WYETPUS', '197308', 'Not Available', '12',\n",
       "        'Electricity Net Generation From Wind, All Sectors',\n",
       "        'Million Kilowatthours'],\n",
       "       ['WYETPUS', '197309', 'Not Available', '12',\n",
       "        'Electricity Net Generation From Wind, All Sectors',\n",
       "        'Million Kilowatthours'],\n",
       "       ['WYETPUS', '197310', 'Not Available', '12',\n",
       "        'Electricity Net Generation From Wind, All Sectors',\n",
       "        'Million Kilowatthours'],\n",
       "       ['WYETPUS', '197311', 'Not Available', '12',\n",
       "        'Electricity Net Generation From Wind, All Sectors',\n",
       "        'Million Kilowatthours'],\n",
       "       ['WYETPUS', '197312', 'Not Available', '12',\n",
       "        'Electricity Net Generation From Wind, All Sectors',\n",
       "        'Million Kilowatthours'],\n",
       "       ['WYETPUS', '197313', 'Not Available', '12',\n",
       "        'Electricity Net Generation From Wind, All Sectors',\n",
       "        'Million Kilowatthours'],\n",
       "       ['WYETPUS', '197401', 'Not Available', '12',\n",
       "        'Electricity Net Generation From Wind, All Sectors',\n",
       "        'Million Kilowatthours'],\n",
       "       ['WYETPUS', '197402', 'Not Available', '12',\n",
       "        'Electricity Net Generation From Wind, All Sectors',\n",
       "        'Million Kilowatthours'],\n",
       "       ['WYETPUS', '197403', 'Not Available', '12',\n",
       "        'Electricity Net Generation From Wind, All Sectors',\n",
       "        'Million Kilowatthours'],\n",
       "       ['WYETPUS', '197404', 'Not Available', '12',\n",
       "        'Electricity Net Generation From Wind, All Sectors',\n",
       "        'Million Kilowatthours'],\n",
       "       ['WYETPUS', '197405', 'Not Available', '12',\n",
       "        'Electricity Net Generation From Wind, All Sectors',\n",
       "        'Million Kilowatthours'],\n",
       "       ['WYETPUS', '197406', 'Not Available', '12',\n",
       "        'Electricity Net Generation From Wind, All Sectors',\n",
       "        'Million Kilowatthours'],\n",
       "       ['WYETPUS', '197407', 'Not Available', '12',\n",
       "        'Electricity Net Generation From Wind, All Sectors',\n",
       "        'Million Kilowatthours'],\n",
       "       ['WYETPUS', '197408', 'Not Available', '12',\n",
       "        'Electricity Net Generation From Wind, All Sectors',\n",
       "        'Million Kilowatthours'],\n",
       "       ['WYETPUS', '197409', 'Not Available', '12',\n",
       "        'Electricity Net Generation From Wind, All Sectors',\n",
       "        'Million Kilowatthours'],\n",
       "       ['WYETPUS', '197410', 'Not Available', '12',\n",
       "        'Electricity Net Generation From Wind, All Sectors',\n",
       "        'Million Kilowatthours'],\n",
       "       ['WYETPUS', '197411', 'Not Available', '12',\n",
       "        'Electricity Net Generation From Wind, All Sectors',\n",
       "        'Million Kilowatthours'],\n",
       "       ['WYETPUS', '197412', 'Not Available', '12',\n",
       "        'Electricity Net Generation From Wind, All Sectors',\n",
       "        'Million Kilowatthours'],\n",
       "       ['WYETPUS', '197413', 'Not Available', '12',\n",
       "        'Electricity Net Generation From Wind, All Sectors',\n",
       "        'Million Kilowatthours'],\n",
       "       ['WYETPUS', '197501', 'Not Available', '12',\n",
       "        'Electricity Net Generation From Wind, All Sectors',\n",
       "        'Million Kilowatthours'],\n",
       "       ['WYETPUS', '197502', 'Not Available', '12',\n",
       "        'Electricity Net Generation From Wind, All Sectors',\n",
       "        'Million Kilowatthours'],\n",
       "       ['WYETPUS', '197503', 'Not Available', '12',\n",
       "        'Electricity Net Generation From Wind, All Sectors',\n",
       "        'Million Kilowatthours'],\n",
       "       ['WYETPUS', '197504', 'Not Available', '12',\n",
       "        'Electricity Net Generation From Wind, All Sectors',\n",
       "        'Million Kilowatthours'],\n",
       "       ['WYETPUS', '197505', 'Not Available', '12',\n",
       "        'Electricity Net Generation From Wind, All Sectors',\n",
       "        'Million Kilowatthours'],\n",
       "       ['WYETPUS', '197506', 'Not Available', '12',\n",
       "        'Electricity Net Generation From Wind, All Sectors',\n",
       "        'Million Kilowatthours'],\n",
       "       ['WYETPUS', '197507', 'Not Available', '12',\n",
       "        'Electricity Net Generation From Wind, All Sectors',\n",
       "        'Million Kilowatthours'],\n",
       "       ['WYETPUS', '197508', 'Not Available', '12',\n",
       "        'Electricity Net Generation From Wind, All Sectors',\n",
       "        'Million Kilowatthours'],\n",
       "       ['WYETPUS', '197509', 'Not Available', '12',\n",
       "        'Electricity Net Generation From Wind, All Sectors',\n",
       "        'Million Kilowatthours'],\n",
       "       ['WYETPUS', '197510', 'Not Available', '12',\n",
       "        'Electricity Net Generation From Wind, All Sectors',\n",
       "        'Million Kilowatthours'],\n",
       "       ['WYETPUS', '197511', 'Not Available', '12',\n",
       "        'Electricity Net Generation From Wind, All Sectors',\n",
       "        'Million Kilowatthours'],\n",
       "       ['WYETPUS', '197512', 'Not Available', '12',\n",
       "        'Electricity Net Generation From Wind, All Sectors',\n",
       "        'Million Kilowatthours'],\n",
       "       ['WYETPUS', '197513', 'Not Available', '12',\n",
       "        'Electricity Net Generation From Wind, All Sectors',\n",
       "        'Million Kilowatthours'],\n",
       "       ['WYETPUS', '197601', 'Not Available', '12',\n",
       "        'Electricity Net Generation From Wind, All Sectors',\n",
       "        'Million Kilowatthours'],\n",
       "       ['WYETPUS', '197602', 'Not Available', '12',\n",
       "        'Electricity Net Generation From Wind, All Sectors',\n",
       "        'Million Kilowatthours'],\n",
       "       ['WYETPUS', '197603', 'Not Available', '12',\n",
       "        'Electricity Net Generation From Wind, All Sectors',\n",
       "        'Million Kilowatthours'],\n",
       "       ['WYETPUS', '197604', 'Not Available', '12',\n",
       "        'Electricity Net Generation From Wind, All Sectors',\n",
       "        'Million Kilowatthours'],\n",
       "       ['WYETPUS', '197605', 'Not Available', '12',\n",
       "        'Electricity Net Generation From Wind, All Sectors',\n",
       "        'Million Kilowatthours'],\n",
       "       ['WYETPUS', '197606', 'Not Available', '12',\n",
       "        'Electricity Net Generation From Wind, All Sectors',\n",
       "        'Million Kilowatthours'],\n",
       "       ['WYETPUS', '197607', 'Not Available', '12',\n",
       "        'Electricity Net Generation From Wind, All Sectors',\n",
       "        'Million Kilowatthours'],\n",
       "       ['WYETPUS', '197608', 'Not Available', '12',\n",
       "        'Electricity Net Generation From Wind, All Sectors',\n",
       "        'Million Kilowatthours'],\n",
       "       ['WYETPUS', '197609', 'Not Available', '12',\n",
       "        'Electricity Net Generation From Wind, All Sectors',\n",
       "        'Million Kilowatthours'],\n",
       "       ['WYETPUS', '197610', 'Not Available', '12',\n",
       "        'Electricity Net Generation From Wind, All Sectors',\n",
       "        'Million Kilowatthours'],\n",
       "       ['WYETPUS', '197611', 'Not Available', '12',\n",
       "        'Electricity Net Generation From Wind, All Sectors',\n",
       "        'Million Kilowatthours'],\n",
       "       ['WYETPUS', '197612', 'Not Available', '12',\n",
       "        'Electricity Net Generation From Wind, All Sectors',\n",
       "        'Million Kilowatthours'],\n",
       "       ['WYETPUS', '197613', 'Not Available', '12',\n",
       "        'Electricity Net Generation From Wind, All Sectors',\n",
       "        'Million Kilowatthours'],\n",
       "       ['WYETPUS', '197701', 'Not Available', '12',\n",
       "        'Electricity Net Generation From Wind, All Sectors',\n",
       "        'Million Kilowatthours'],\n",
       "       ['WYETPUS', '197702', 'Not Available', '12',\n",
       "        'Electricity Net Generation From Wind, All Sectors',\n",
       "        'Million Kilowatthours'],\n",
       "       ['WYETPUS', '197703', 'Not Available', '12',\n",
       "        'Electricity Net Generation From Wind, All Sectors',\n",
       "        'Million Kilowatthours'],\n",
       "       ['WYETPUS', '197704', 'Not Available', '12',\n",
       "        'Electricity Net Generation From Wind, All Sectors',\n",
       "        'Million Kilowatthours'],\n",
       "       ['WYETPUS', '197705', 'Not Available', '12',\n",
       "        'Electricity Net Generation From Wind, All Sectors',\n",
       "        'Million Kilowatthours'],\n",
       "       ['WYETPUS', '197706', 'Not Available', '12',\n",
       "        'Electricity Net Generation From Wind, All Sectors',\n",
       "        'Million Kilowatthours'],\n",
       "       ['WYETPUS', '197707', 'Not Available', '12',\n",
       "        'Electricity Net Generation From Wind, All Sectors',\n",
       "        'Million Kilowatthours'],\n",
       "       ['WYETPUS', '197708', 'Not Available', '12',\n",
       "        'Electricity Net Generation From Wind, All Sectors',\n",
       "        'Million Kilowatthours'],\n",
       "       ['WYETPUS', '197709', 'Not Available', '12',\n",
       "        'Electricity Net Generation From Wind, All Sectors',\n",
       "        'Million Kilowatthours'],\n",
       "       ['WYETPUS', '197710', 'Not Available', '12',\n",
       "        'Electricity Net Generation From Wind, All Sectors',\n",
       "        'Million Kilowatthours'],\n",
       "       ['WYETPUS', '197711', 'Not Available', '12',\n",
       "        'Electricity Net Generation From Wind, All Sectors',\n",
       "        'Million Kilowatthours'],\n",
       "       ['WYETPUS', '197712', 'Not Available', '12',\n",
       "        'Electricity Net Generation From Wind, All Sectors',\n",
       "        'Million Kilowatthours'],\n",
       "       ['WYETPUS', '197713', 'Not Available', '12',\n",
       "        'Electricity Net Generation From Wind, All Sectors',\n",
       "        'Million Kilowatthours'],\n",
       "       ['WYETPUS', '197801', 'Not Available', '12',\n",
       "        'Electricity Net Generation From Wind, All Sectors',\n",
       "        'Million Kilowatthours'],\n",
       "       ['WYETPUS', '197802', 'Not Available', '12',\n",
       "        'Electricity Net Generation From Wind, All Sectors',\n",
       "        'Million Kilowatthours'],\n",
       "       ['WYETPUS', '197803', 'Not Available', '12',\n",
       "        'Electricity Net Generation From Wind, All Sectors',\n",
       "        'Million Kilowatthours'],\n",
       "       ['WYETPUS', '197804', 'Not Available', '12',\n",
       "        'Electricity Net Generation From Wind, All Sectors',\n",
       "        'Million Kilowatthours'],\n",
       "       ['WYETPUS', '197805', 'Not Available', '12',\n",
       "        'Electricity Net Generation From Wind, All Sectors',\n",
       "        'Million Kilowatthours'],\n",
       "       ['WYETPUS', '197806', 'Not Available', '12',\n",
       "        'Electricity Net Generation From Wind, All Sectors',\n",
       "        'Million Kilowatthours'],\n",
       "       ['WYETPUS', '197807', 'Not Available', '12',\n",
       "        'Electricity Net Generation From Wind, All Sectors',\n",
       "        'Million Kilowatthours'],\n",
       "       ['WYETPUS', '197808', 'Not Available', '12',\n",
       "        'Electricity Net Generation From Wind, All Sectors',\n",
       "        'Million Kilowatthours'],\n",
       "       ['WYETPUS', '197809', 'Not Available', '12',\n",
       "        'Electricity Net Generation From Wind, All Sectors',\n",
       "        'Million Kilowatthours'],\n",
       "       ['WYETPUS', '197810', 'Not Available', '12',\n",
       "        'Electricity Net Generation From Wind, All Sectors',\n",
       "        'Million Kilowatthours'],\n",
       "       ['WYETPUS', '197811', 'Not Available', '12',\n",
       "        'Electricity Net Generation From Wind, All Sectors',\n",
       "        'Million Kilowatthours'],\n",
       "       ['WYETPUS', '197812', 'Not Available', '12',\n",
       "        'Electricity Net Generation From Wind, All Sectors',\n",
       "        'Million Kilowatthours'],\n",
       "       ['WYETPUS', '197813', 'Not Available', '12',\n",
       "        'Electricity Net Generation From Wind, All Sectors',\n",
       "        'Million Kilowatthours'],\n",
       "       ['WYETPUS', '197901', 'Not Available', '12',\n",
       "        'Electricity Net Generation From Wind, All Sectors',\n",
       "        'Million Kilowatthours'],\n",
       "       ['WYETPUS', '197902', 'Not Available', '12',\n",
       "        'Electricity Net Generation From Wind, All Sectors',\n",
       "        'Million Kilowatthours'],\n",
       "       ['WYETPUS', '197903', 'Not Available', '12',\n",
       "        'Electricity Net Generation From Wind, All Sectors',\n",
       "        'Million Kilowatthours'],\n",
       "       ['WYETPUS', '197904', 'Not Available', '12',\n",
       "        'Electricity Net Generation From Wind, All Sectors',\n",
       "        'Million Kilowatthours'],\n",
       "       ['WYETPUS', '197905', 'Not Available', '12',\n",
       "        'Electricity Net Generation From Wind, All Sectors',\n",
       "        'Million Kilowatthours'],\n",
       "       ['WYETPUS', '197906', 'Not Available', '12',\n",
       "        'Electricity Net Generation From Wind, All Sectors',\n",
       "        'Million Kilowatthours'],\n",
       "       ['WYETPUS', '197907', 'Not Available', '12',\n",
       "        'Electricity Net Generation From Wind, All Sectors',\n",
       "        'Million Kilowatthours'],\n",
       "       ['WYETPUS', '197908', 'Not Available', '12',\n",
       "        'Electricity Net Generation From Wind, All Sectors',\n",
       "        'Million Kilowatthours'],\n",
       "       ['WYETPUS', '197909', 'Not Available', '12',\n",
       "        'Electricity Net Generation From Wind, All Sectors',\n",
       "        'Million Kilowatthours'],\n",
       "       ['WYETPUS', '197910', 'Not Available', '12',\n",
       "        'Electricity Net Generation From Wind, All Sectors',\n",
       "        'Million Kilowatthours'],\n",
       "       ['WYETPUS', '197911', 'Not Available', '12',\n",
       "        'Electricity Net Generation From Wind, All Sectors',\n",
       "        'Million Kilowatthours'],\n",
       "       ['WYETPUS', '197912', 'Not Available', '12',\n",
       "        'Electricity Net Generation From Wind, All Sectors',\n",
       "        'Million Kilowatthours'],\n",
       "       ['WYETPUS', '197913', 'Not Available', '12',\n",
       "        'Electricity Net Generation From Wind, All Sectors',\n",
       "        'Million Kilowatthours'],\n",
       "       ['WYETPUS', '198001', 'Not Available', '12',\n",
       "        'Electricity Net Generation From Wind, All Sectors',\n",
       "        'Million Kilowatthours'],\n",
       "       ['WYETPUS', '198002', 'Not Available', '12',\n",
       "        'Electricity Net Generation From Wind, All Sectors',\n",
       "        'Million Kilowatthours'],\n",
       "       ['WYETPUS', '198003', 'Not Available', '12',\n",
       "        'Electricity Net Generation From Wind, All Sectors',\n",
       "        'Million Kilowatthours'],\n",
       "       ['WYETPUS', '198004', 'Not Available', '12',\n",
       "        'Electricity Net Generation From Wind, All Sectors',\n",
       "        'Million Kilowatthours'],\n",
       "       ['WYETPUS', '198005', 'Not Available', '12',\n",
       "        'Electricity Net Generation From Wind, All Sectors',\n",
       "        'Million Kilowatthours'],\n",
       "       ['WYETPUS', '198006', 'Not Available', '12',\n",
       "        'Electricity Net Generation From Wind, All Sectors',\n",
       "        'Million Kilowatthours'],\n",
       "       ['WYETPUS', '198007', 'Not Available', '12',\n",
       "        'Electricity Net Generation From Wind, All Sectors',\n",
       "        'Million Kilowatthours'],\n",
       "       ['WYETPUS', '198008', 'Not Available', '12',\n",
       "        'Electricity Net Generation From Wind, All Sectors',\n",
       "        'Million Kilowatthours'],\n",
       "       ['WYETPUS', '198009', 'Not Available', '12',\n",
       "        'Electricity Net Generation From Wind, All Sectors',\n",
       "        'Million Kilowatthours'],\n",
       "       ['WYETPUS', '198010', 'Not Available', '12',\n",
       "        'Electricity Net Generation From Wind, All Sectors',\n",
       "        'Million Kilowatthours'],\n",
       "       ['WYETPUS', '198011', 'Not Available', '12',\n",
       "        'Electricity Net Generation From Wind, All Sectors',\n",
       "        'Million Kilowatthours'],\n",
       "       ['WYETPUS', '198012', 'Not Available', '12',\n",
       "        'Electricity Net Generation From Wind, All Sectors',\n",
       "        'Million Kilowatthours'],\n",
       "       ['WYETPUS', '198013', 'Not Available', '12',\n",
       "        'Electricity Net Generation From Wind, All Sectors',\n",
       "        'Million Kilowatthours'],\n",
       "       ['WYETPUS', '198101', 'Not Available', '12',\n",
       "        'Electricity Net Generation From Wind, All Sectors',\n",
       "        'Million Kilowatthours'],\n",
       "       ['WYETPUS', '198102', 'Not Available', '12',\n",
       "        'Electricity Net Generation From Wind, All Sectors',\n",
       "        'Million Kilowatthours'],\n",
       "       ['WYETPUS', '198103', 'Not Available', '12',\n",
       "        'Electricity Net Generation From Wind, All Sectors',\n",
       "        'Million Kilowatthours'],\n",
       "       ['WYETPUS', '198104', 'Not Available', '12',\n",
       "        'Electricity Net Generation From Wind, All Sectors',\n",
       "        'Million Kilowatthours'],\n",
       "       ['WYETPUS', '198105', 'Not Available', '12',\n",
       "        'Electricity Net Generation From Wind, All Sectors',\n",
       "        'Million Kilowatthours'],\n",
       "       ['WYETPUS', '198106', 'Not Available', '12',\n",
       "        'Electricity Net Generation From Wind, All Sectors',\n",
       "        'Million Kilowatthours'],\n",
       "       ['WYETPUS', '198107', 'Not Available', '12',\n",
       "        'Electricity Net Generation From Wind, All Sectors',\n",
       "        'Million Kilowatthours'],\n",
       "       ['WYETPUS', '198108', 'Not Available', '12',\n",
       "        'Electricity Net Generation From Wind, All Sectors',\n",
       "        'Million Kilowatthours'],\n",
       "       ['WYETPUS', '198109', 'Not Available', '12',\n",
       "        'Electricity Net Generation From Wind, All Sectors',\n",
       "        'Million Kilowatthours'],\n",
       "       ['WYETPUS', '198110', 'Not Available', '12',\n",
       "        'Electricity Net Generation From Wind, All Sectors',\n",
       "        'Million Kilowatthours'],\n",
       "       ['WYETPUS', '198111', 'Not Available', '12',\n",
       "        'Electricity Net Generation From Wind, All Sectors',\n",
       "        'Million Kilowatthours'],\n",
       "       ['WYETPUS', '198112', 'Not Available', '12',\n",
       "        'Electricity Net Generation From Wind, All Sectors',\n",
       "        'Million Kilowatthours'],\n",
       "       ['WYETPUS', '198113', 'Not Available', '12',\n",
       "        'Electricity Net Generation From Wind, All Sectors',\n",
       "        'Million Kilowatthours'],\n",
       "       ['WYETPUS', '198201', 'Not Available', '12',\n",
       "        'Electricity Net Generation From Wind, All Sectors',\n",
       "        'Million Kilowatthours'],\n",
       "       ['WYETPUS', '198202', 'Not Available', '12',\n",
       "        'Electricity Net Generation From Wind, All Sectors',\n",
       "        'Million Kilowatthours'],\n",
       "       ['WYETPUS', '198203', 'Not Available', '12',\n",
       "        'Electricity Net Generation From Wind, All Sectors',\n",
       "        'Million Kilowatthours'],\n",
       "       ['WYETPUS', '198204', 'Not Available', '12',\n",
       "        'Electricity Net Generation From Wind, All Sectors',\n",
       "        'Million Kilowatthours'],\n",
       "       ['WYETPUS', '198205', 'Not Available', '12',\n",
       "        'Electricity Net Generation From Wind, All Sectors',\n",
       "        'Million Kilowatthours'],\n",
       "       ['WYETPUS', '198206', 'Not Available', '12',\n",
       "        'Electricity Net Generation From Wind, All Sectors',\n",
       "        'Million Kilowatthours'],\n",
       "       ['WYETPUS', '198207', 'Not Available', '12',\n",
       "        'Electricity Net Generation From Wind, All Sectors',\n",
       "        'Million Kilowatthours'],\n",
       "       ['WYETPUS', '198208', 'Not Available', '12',\n",
       "        'Electricity Net Generation From Wind, All Sectors',\n",
       "        'Million Kilowatthours'],\n",
       "       ['WYETPUS', '198209', 'Not Available', '12',\n",
       "        'Electricity Net Generation From Wind, All Sectors',\n",
       "        'Million Kilowatthours'],\n",
       "       ['WYETPUS', '198210', 'Not Available', '12',\n",
       "        'Electricity Net Generation From Wind, All Sectors',\n",
       "        'Million Kilowatthours'],\n",
       "       ['WYETPUS', '198211', 'Not Available', '12',\n",
       "        'Electricity Net Generation From Wind, All Sectors',\n",
       "        'Million Kilowatthours'],\n",
       "       ['WYETPUS', '198212', 'Not Available', '12',\n",
       "        'Electricity Net Generation From Wind, All Sectors',\n",
       "        'Million Kilowatthours'],\n",
       "       ['WYETPUS', '198213', 'Not Available', '12',\n",
       "        'Electricity Net Generation From Wind, All Sectors',\n",
       "        'Million Kilowatthours']], dtype='<U80')"
      ]
     },
     "execution_count": 23,
     "metadata": {},
     "output_type": "execute_result"
    }
   ],
   "source": [
    "available_mask = wind_data [:,2] == \"Not Available\"\n",
    "wind_data[available_mask]"
   ]
  },
  {
   "cell_type": "code",
   "execution_count": 28,
   "id": "bdc10b0f",
   "metadata": {},
   "outputs": [],
   "source": [
    "## code to check for \"Not Equal to\"\n",
    "\n",
    "available_mask = wind_data [:,2] != \"Not Available\"\n",
    "wind_data = wind_data[available_mask]"
   ]
  },
  {
   "cell_type": "code",
   "execution_count": 29,
   "id": "b3452718",
   "metadata": {},
   "outputs": [
    {
     "data": {
      "text/plain": [
       "array([['WYETPUS', '198301', '0.172', '12',\n",
       "        'Electricity Net Generation From Wind, All Sectors',\n",
       "        'Million Kilowatthours'],\n",
       "       ['WYETPUS', '198302', '0.018', '12',\n",
       "        'Electricity Net Generation From Wind, All Sectors',\n",
       "        'Million Kilowatthours'],\n",
       "       ['WYETPUS', '198303', '0.313', '12',\n",
       "        'Electricity Net Generation From Wind, All Sectors',\n",
       "        'Million Kilowatthours'],\n",
       "       ...,\n",
       "       ['WYETPUS', '202209', '27024.307', '12',\n",
       "        'Electricity Net Generation From Wind, All Sectors',\n",
       "        'Million Kilowatthours'],\n",
       "       ['WYETPUS', '202210', '32824.906', '12',\n",
       "        'Electricity Net Generation From Wind, All Sectors',\n",
       "        'Million Kilowatthours'],\n",
       "       ['WYETPUS', '202211', '41971.407', '12',\n",
       "        'Electricity Net Generation From Wind, All Sectors',\n",
       "        'Million Kilowatthours']], dtype='<U80')"
      ]
     },
     "execution_count": 29,
     "metadata": {},
     "output_type": "execute_result"
    }
   ],
   "source": [
    "wind_data"
   ]
  },
  {
   "cell_type": "markdown",
   "id": "6f17618f",
   "metadata": {},
   "source": [
    "## save Clean Wind data"
   ]
  },
  {
   "cell_type": "code",
   "execution_count": 31,
   "id": "70a9b131",
   "metadata": {},
   "outputs": [],
   "source": [
    "np.savetxt(\"wind.csv\",wind_data, fmt=\"%s\",delimiter=\",\")"
   ]
  },
  {
   "cell_type": "markdown",
   "id": "6b8eceba",
   "metadata": {},
   "source": [
    "# Analysis"
   ]
  },
  {
   "cell_type": "code",
   "execution_count": 47,
   "id": "ce067ccd",
   "metadata": {},
   "outputs": [
    {
     "name": "stdout",
     "output_type": "stream",
     "text": [
      "198313\n",
      "198413\n",
      "198513\n",
      "198613\n",
      "198713\n",
      "198813\n",
      "198913\n",
      "199013\n",
      "199113\n",
      "199213\n",
      "199313\n",
      "199413\n",
      "199513\n",
      "199613\n",
      "199713\n",
      "199813\n",
      "199913\n",
      "200013\n",
      "200113\n",
      "200213\n",
      "200313\n",
      "200413\n",
      "200513\n",
      "200613\n",
      "200713\n",
      "200813\n",
      "200913\n",
      "201013\n",
      "201113\n",
      "201213\n",
      "201313\n",
      "201413\n",
      "201513\n",
      "201613\n",
      "201713\n",
      "201813\n",
      "201913\n",
      "202013\n",
      "202113\n"
     ]
    }
   ],
   "source": [
    "## To extract the annual data\n",
    "\n",
    "for x in wind_data[:,1]:\n",
    "    if x[-2:] == \"13\":\n",
    "        print(x)\n"
   ]
  },
  {
   "cell_type": "code",
   "execution_count": 48,
   "id": "d47723d9",
   "metadata": {},
   "outputs": [],
   "source": [
    "annual_mask = np.array([x[-2:]== \"13\" for x in wind_data[:,1]])"
   ]
  },
  {
   "cell_type": "code",
   "execution_count": 49,
   "id": "a697e0c0",
   "metadata": {},
   "outputs": [],
   "source": [
    "annual_wind_data = wind_data[annual_mask]"
   ]
  },
  {
   "cell_type": "code",
   "execution_count": 50,
   "id": "8dd7b1b6",
   "metadata": {},
   "outputs": [
    {
     "data": {
      "text/plain": [
       "array([['WYETPUS', '198313', '2.668', '12',\n",
       "        'Electricity Net Generation From Wind, All Sectors',\n",
       "        'Million Kilowatthours'],\n",
       "       ['WYETPUS', '198413', '6.49', '12',\n",
       "        'Electricity Net Generation From Wind, All Sectors',\n",
       "        'Million Kilowatthours'],\n",
       "       ['WYETPUS', '198513', '5.762', '12',\n",
       "        'Electricity Net Generation From Wind, All Sectors',\n",
       "        'Million Kilowatthours'],\n",
       "       ['WYETPUS', '198613', '4.189', '12',\n",
       "        'Electricity Net Generation From Wind, All Sectors',\n",
       "        'Million Kilowatthours'],\n",
       "       ['WYETPUS', '198713', '3.541', '12',\n",
       "        'Electricity Net Generation From Wind, All Sectors',\n",
       "        'Million Kilowatthours'],\n",
       "       ['WYETPUS', '198813', '0.871', '12',\n",
       "        'Electricity Net Generation From Wind, All Sectors',\n",
       "        'Million Kilowatthours'],\n",
       "       ['WYETPUS', '198913', '2112.043', '12',\n",
       "        'Electricity Net Generation From Wind, All Sectors',\n",
       "        'Million Kilowatthours'],\n",
       "       ['WYETPUS', '199013', '2788.6', '12',\n",
       "        'Electricity Net Generation From Wind, All Sectors',\n",
       "        'Million Kilowatthours'],\n",
       "       ['WYETPUS', '199113', '2950.951', '12',\n",
       "        'Electricity Net Generation From Wind, All Sectors',\n",
       "        'Million Kilowatthours'],\n",
       "       ['WYETPUS', '199213', '2887.523', '12',\n",
       "        'Electricity Net Generation From Wind, All Sectors',\n",
       "        'Million Kilowatthours'],\n",
       "       ['WYETPUS', '199313', '3005.827', '12',\n",
       "        'Electricity Net Generation From Wind, All Sectors',\n",
       "        'Million Kilowatthours'],\n",
       "       ['WYETPUS', '199413', '3447.109', '12',\n",
       "        'Electricity Net Generation From Wind, All Sectors',\n",
       "        'Million Kilowatthours'],\n",
       "       ['WYETPUS', '199513', '3164.253', '12',\n",
       "        'Electricity Net Generation From Wind, All Sectors',\n",
       "        'Million Kilowatthours'],\n",
       "       ['WYETPUS', '199613', '3234.069', '12',\n",
       "        'Electricity Net Generation From Wind, All Sectors',\n",
       "        'Million Kilowatthours'],\n",
       "       ['WYETPUS', '199713', '3288.035', '12',\n",
       "        'Electricity Net Generation From Wind, All Sectors',\n",
       "        'Million Kilowatthours'],\n",
       "       ['WYETPUS', '199813', '3025.696', '12',\n",
       "        'Electricity Net Generation From Wind, All Sectors',\n",
       "        'Million Kilowatthours'],\n",
       "       ['WYETPUS', '199913', '4487.998', '12',\n",
       "        'Electricity Net Generation From Wind, All Sectors',\n",
       "        'Million Kilowatthours'],\n",
       "       ['WYETPUS', '200013', '5593.261', '12',\n",
       "        'Electricity Net Generation From Wind, All Sectors',\n",
       "        'Million Kilowatthours'],\n",
       "       ['WYETPUS', '200113', '6737.331', '12',\n",
       "        'Electricity Net Generation From Wind, All Sectors',\n",
       "        'Million Kilowatthours'],\n",
       "       ['WYETPUS', '200213', '10354.28', '12',\n",
       "        'Electricity Net Generation From Wind, All Sectors',\n",
       "        'Million Kilowatthours'],\n",
       "       ['WYETPUS', '200313', '11187.466', '12',\n",
       "        'Electricity Net Generation From Wind, All Sectors',\n",
       "        'Million Kilowatthours'],\n",
       "       ['WYETPUS', '200413', '14143.741', '12',\n",
       "        'Electricity Net Generation From Wind, All Sectors',\n",
       "        'Million Kilowatthours'],\n",
       "       ['WYETPUS', '200513', '17810.549', '12',\n",
       "        'Electricity Net Generation From Wind, All Sectors',\n",
       "        'Million Kilowatthours'],\n",
       "       ['WYETPUS', '200613', '26589.137', '12',\n",
       "        'Electricity Net Generation From Wind, All Sectors',\n",
       "        'Million Kilowatthours'],\n",
       "       ['WYETPUS', '200713', '34449.927', '12',\n",
       "        'Electricity Net Generation From Wind, All Sectors',\n",
       "        'Million Kilowatthours'],\n",
       "       ['WYETPUS', '200813', '55363.1', '12',\n",
       "        'Electricity Net Generation From Wind, All Sectors',\n",
       "        'Million Kilowatthours'],\n",
       "       ['WYETPUS', '200913', '73886.132', '12',\n",
       "        'Electricity Net Generation From Wind, All Sectors',\n",
       "        'Million Kilowatthours'],\n",
       "       ['WYETPUS', '201013', '94652.246', '12',\n",
       "        'Electricity Net Generation From Wind, All Sectors',\n",
       "        'Million Kilowatthours'],\n",
       "       ['WYETPUS', '201113', '120176.599', '12',\n",
       "        'Electricity Net Generation From Wind, All Sectors',\n",
       "        'Million Kilowatthours'],\n",
       "       ['WYETPUS', '201213', '140821.703', '12',\n",
       "        'Electricity Net Generation From Wind, All Sectors',\n",
       "        'Million Kilowatthours'],\n",
       "       ['WYETPUS', '201313', '167839.745', '12',\n",
       "        'Electricity Net Generation From Wind, All Sectors',\n",
       "        'Million Kilowatthours'],\n",
       "       ['WYETPUS', '201413', '181655.282', '12',\n",
       "        'Electricity Net Generation From Wind, All Sectors',\n",
       "        'Million Kilowatthours'],\n",
       "       ['WYETPUS', '201513', '190718.548', '12',\n",
       "        'Electricity Net Generation From Wind, All Sectors',\n",
       "        'Million Kilowatthours'],\n",
       "       ['WYETPUS', '201613', '226992.562', '12',\n",
       "        'Electricity Net Generation From Wind, All Sectors',\n",
       "        'Million Kilowatthours'],\n",
       "       ['WYETPUS', '201713', '254302.695', '12',\n",
       "        'Electricity Net Generation From Wind, All Sectors',\n",
       "        'Million Kilowatthours'],\n",
       "       ['WYETPUS', '201813', '272667.454', '12',\n",
       "        'Electricity Net Generation From Wind, All Sectors',\n",
       "        'Million Kilowatthours'],\n",
       "       ['WYETPUS', '201913', '295882.484', '12',\n",
       "        'Electricity Net Generation From Wind, All Sectors',\n",
       "        'Million Kilowatthours'],\n",
       "       ['WYETPUS', '202013', '337938.049', '12',\n",
       "        'Electricity Net Generation From Wind, All Sectors',\n",
       "        'Million Kilowatthours'],\n",
       "       ['WYETPUS', '202113', '378196.775', '12',\n",
       "        'Electricity Net Generation From Wind, All Sectors',\n",
       "        'Million Kilowatthours']], dtype='<U80')"
      ]
     },
     "execution_count": 50,
     "metadata": {},
     "output_type": "execute_result"
    }
   ],
   "source": [
    "annual_wind_data"
   ]
  },
  {
   "cell_type": "markdown",
   "id": "cb57cc07",
   "metadata": {},
   "source": [
    "## Total energy generated per year"
   ]
  },
  {
   "cell_type": "code",
   "execution_count": 51,
   "id": "20111635",
   "metadata": {},
   "outputs": [],
   "source": [
    "all_energy = annual_wind_data[:,2].astype(float)"
   ]
  },
  {
   "cell_type": "code",
   "execution_count": 52,
   "id": "c786672e",
   "metadata": {},
   "outputs": [
    {
     "data": {
      "text/plain": [
       "2952374.691"
      ]
     },
     "execution_count": 52,
     "metadata": {},
     "output_type": "execute_result"
    }
   ],
   "source": [
    "all_energy.sum()"
   ]
  },
  {
   "cell_type": "code",
   "execution_count": 53,
   "id": "e8a49a19",
   "metadata": {},
   "outputs": [
    {
     "name": "stdout",
     "output_type": "stream",
     "text": [
      "The total wind energy generated in US between 1986-2001 is: 2952374.691 kilowat per hour\n"
     ]
    }
   ],
   "source": [
    "print(\"The total wind energy generated in US between 1986-2001 is: {} kilowat per hour\".format (all_energy.sum()))"
   ]
  },
  {
   "cell_type": "markdown",
   "id": "b17f0683",
   "metadata": {},
   "source": [
    "## 2. The Mean Energy Generated"
   ]
  },
  {
   "cell_type": "code",
   "execution_count": 54,
   "id": "982a2437",
   "metadata": {},
   "outputs": [
    {
     "data": {
      "text/plain": [
       "75701.91515384616"
      ]
     },
     "execution_count": 54,
     "metadata": {},
     "output_type": "execute_result"
    }
   ],
   "source": [
    "all_energy.mean()"
   ]
  },
  {
   "cell_type": "markdown",
   "id": "579d1aba",
   "metadata": {},
   "source": [
    "## 3. The standard deviation"
   ]
  },
  {
   "cell_type": "code",
   "execution_count": 55,
   "id": "00bfe337",
   "metadata": {},
   "outputs": [
    {
     "data": {
      "text/plain": [
       "109069.92321094654"
      ]
     },
     "execution_count": 55,
     "metadata": {},
     "output_type": "execute_result"
    }
   ],
   "source": [
    "all_energy.std()"
   ]
  },
  {
   "cell_type": "markdown",
   "id": "2ae82759",
   "metadata": {},
   "source": [
    "## Graph"
   ]
  },
  {
   "cell_type": "code",
   "execution_count": 56,
   "id": "944ec533",
   "metadata": {},
   "outputs": [],
   "source": [
    "x = annual_wind_data[:,1] #year\n",
    "y = annual_wind_data[:,2] #energy"
   ]
  },
  {
   "cell_type": "code",
   "execution_count": 57,
   "id": "37077b85",
   "metadata": {},
   "outputs": [
    {
     "data": {
      "image/png": "[encoded data removed]",
      "text/plain": [
       "<Figure size 640x480 with 1 Axes>"
      ]
     },
     "metadata": {},
     "output_type": "display_data"
    }
   ],
   "source": [
    "plt.plot(x,y)\n",
    "plt.xlabel(\"Year\")\n",
    "plt.ylabel(\"Energy generated\")\n",
    "plt.show()"
   ]
  },
  {
   "cell_type": "markdown",
   "id": "91ce3ddf",
   "metadata": {},
   "source": [
    "## Extract the minimum and maximum energy"
   ]
  },
  {
   "cell_type": "code",
   "execution_count": 59,
   "id": "e3a76df9",
   "metadata": {},
   "outputs": [
    {
     "data": {
      "text/plain": [
       "378196.775"
      ]
     },
     "execution_count": 59,
     "metadata": {},
     "output_type": "execute_result"
    }
   ],
   "source": [
    "all_energy = annual_wind_data[:,2].astype(float)\n",
    "all_energy.max()"
   ]
  },
  {
   "cell_type": "code",
   "execution_count": 60,
   "id": "d51cbd47",
   "metadata": {},
   "outputs": [
    {
     "data": {
      "text/plain": [
       "0.871"
      ]
     },
     "execution_count": 60,
     "metadata": {},
     "output_type": "execute_result"
    }
   ],
   "source": [
    "all_energy = annual_wind_data[:,2].astype(float)\n",
    "all_energy.min()"
   ]
  },
  {
   "cell_type": "code",
   "execution_count": null,
   "id": "3097dc55",
   "metadata": {},
   "outputs": [],
   "source": []
  }
 ],
 "metadata": {
  "kernelspec": {
   "display_name": "Python 3 (ipykernel)",
   "language": "python",
   "name": "python3"
  },
  "language_info": {
   "codemirror_mode": {
    "name": "ipython",
    "version": 3
   },
   "file_extension": ".py",
   "mimetype": "text/x-python",
   "name": "python",
   "nbconvert_exporter": "python",
   "pygments_lexer": "ipython3",
   "version": "3.9.13"
  }
 },
 "nbformat": 4,
 "nbformat_minor": 5
}
